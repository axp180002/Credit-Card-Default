{
 "cells": [
  {
   "cell_type": "markdown",
   "metadata": {
    "collapsed": true,
    "deletable": true,
    "editable": true
   },
   "source": [
    "Aim : To identify if the credit card holder is going to commit a default in the coming month or not. It is a Classification problem that comes under Supervised Machine Learning Algorithm:\n",
    "\n",
    "- Features available :\n",
    "\n",
    "Target Feature:\n",
    "\n",
    "Y (default payment next month): Default 1 - yes, 0 - no\n",
    "\n",
    "Independent Features:\n",
    "\n",
    "X1: Amount of the given credit (NT dollar): it includes both the individual consumer credit and his/her family (supplementary) credit.\n",
    "\n",
    "X2: Gender (1 = male; 2 = female).\n",
    "\n",
    "X3: Education (1 = graduate school; 2 = university; 3 = high school; 4 = others)\n",
    "\n",
    "X4: Marital status (1 = married; 2 = single; 3 = others)\n",
    "\n",
    "X5: Age (year)\n",
    "\n",
    "X6 - X11: History of past payment. We tracked the past monthly payment records (from April to September, 2005) as follows: X6 = the repayment status in September, 2005;\n",
    "\n",
    "X7 = the repayment status in August, 2005; . .\n",
    "\n",
    "X11 = the repayment status in April, 2005.The measurement scale for the repayment status is: -1 = pay duly; \n",
    "1 = payment delay for one month; 2 = payment delay for two months; . . .; \n",
    "8 = payment delay for eight months; 9 = payment delay for nine months and above.\n",
    "\n",
    "X12-X17: Amount of bill statement (NT dollar). X12 = amount of bill statement in September, 2005; X13 = amount of bill statement in August, 2005; . . .; X17 = amount of bill statement in April, 2005.\n",
    "\n",
    "X18-X23: Amount of previous payment (NT dollar). X18 = amount paid in September, 2005; X19 = amount paid in August, 2005; . . .;X23 = amount paid in April, 2005. \n"
   ]
  },
  {
   "cell_type": "code",
   "execution_count": 2,
   "metadata": {
    "collapsed": true,
    "deletable": true,
    "editable": true
   },
   "outputs": [],
   "source": [
    "#Importing librraies for computation:\n",
    "import numpy as np # For mathematical calculations\n",
    "import pandas as pd #For handling dataframe\n",
    "import seaborn as sns #For plotting graphs\n",
    "import matplotlib.pyplot as plt #For plotting graphs\n",
    "from sklearn.preprocessing import StandardScaler #For scaling the parameters\n",
    "from sklearn.model_selection import train_test_split #For splitting the data into test and train set\n",
    "from sklearn.ensemble import RandomForestClassifier # For building a random forest model\n",
    "from sklearn.metrics import accuracy_score #For printing the accuracy score of model\n",
    "from sklearn.metrics import confusion_matrix #For building a confusion matrix to calculate sensitivity and specifivity\n",
    "from mlxtend.plotting import plot_confusion_matrix #For building a confusion matrix plot\n",
    "import xgboost as xgb #For building a XG boost model"
   ]
  },
  {
   "cell_type": "markdown",
   "metadata": {
    "collapsed": true,
    "deletable": true,
    "editable": true
   },
   "source": [
    " 1. Data cleaning & Formatting:"
   ]
  },
  {
   "cell_type": "code",
   "execution_count": 3,
   "metadata": {
    "collapsed": false,
    "deletable": true,
    "editable": true
   },
   "outputs": [],
   "source": [
    "#Importing the dataset & skipping the first row:\n",
    "df = pd.read_csv(\"C:/Users/abhip/OneDrive/Desktop/BI Mini Project.csv\", skiprows = 1)"
   ]
  },
  {
   "cell_type": "code",
   "execution_count": 4,
   "metadata": {
    "collapsed": false,
    "deletable": true,
    "editable": true
   },
   "outputs": [
    {
     "data": {
      "text/html": [
       "<div>\n",
       "<style>\n",
       "    .dataframe thead tr:only-child th {\n",
       "        text-align: right;\n",
       "    }\n",
       "\n",
       "    .dataframe thead th {\n",
       "        text-align: left;\n",
       "    }\n",
       "\n",
       "    .dataframe tbody tr th {\n",
       "        vertical-align: top;\n",
       "    }\n",
       "</style>\n",
       "<table border=\"1\" class=\"dataframe\">\n",
       "  <thead>\n",
       "    <tr style=\"text-align: right;\">\n",
       "      <th></th>\n",
       "      <th>ID</th>\n",
       "      <th>LIMIT_BAL</th>\n",
       "      <th>SEX</th>\n",
       "      <th>EDUCATION</th>\n",
       "      <th>MARRIAGE</th>\n",
       "      <th>AGE</th>\n",
       "      <th>PAY_0</th>\n",
       "      <th>PAY_2</th>\n",
       "      <th>PAY_3</th>\n",
       "      <th>PAY_4</th>\n",
       "      <th>...</th>\n",
       "      <th>BILL_AMT4</th>\n",
       "      <th>BILL_AMT5</th>\n",
       "      <th>BILL_AMT6</th>\n",
       "      <th>PAY_AMT1</th>\n",
       "      <th>PAY_AMT2</th>\n",
       "      <th>PAY_AMT3</th>\n",
       "      <th>PAY_AMT4</th>\n",
       "      <th>PAY_AMT5</th>\n",
       "      <th>PAY_AMT6</th>\n",
       "      <th>default payment next month</th>\n",
       "    </tr>\n",
       "  </thead>\n",
       "  <tbody>\n",
       "    <tr>\n",
       "      <th>0</th>\n",
       "      <td>1</td>\n",
       "      <td>20000</td>\n",
       "      <td>2</td>\n",
       "      <td>2</td>\n",
       "      <td>1</td>\n",
       "      <td>24</td>\n",
       "      <td>2</td>\n",
       "      <td>2</td>\n",
       "      <td>-1</td>\n",
       "      <td>-1</td>\n",
       "      <td>...</td>\n",
       "      <td>0</td>\n",
       "      <td>0</td>\n",
       "      <td>0</td>\n",
       "      <td>0</td>\n",
       "      <td>689</td>\n",
       "      <td>0</td>\n",
       "      <td>0</td>\n",
       "      <td>0</td>\n",
       "      <td>0</td>\n",
       "      <td>1</td>\n",
       "    </tr>\n",
       "    <tr>\n",
       "      <th>1</th>\n",
       "      <td>2</td>\n",
       "      <td>120000</td>\n",
       "      <td>2</td>\n",
       "      <td>2</td>\n",
       "      <td>2</td>\n",
       "      <td>26</td>\n",
       "      <td>-1</td>\n",
       "      <td>2</td>\n",
       "      <td>0</td>\n",
       "      <td>0</td>\n",
       "      <td>...</td>\n",
       "      <td>3272</td>\n",
       "      <td>3455</td>\n",
       "      <td>3261</td>\n",
       "      <td>0</td>\n",
       "      <td>1000</td>\n",
       "      <td>1000</td>\n",
       "      <td>1000</td>\n",
       "      <td>0</td>\n",
       "      <td>2000</td>\n",
       "      <td>1</td>\n",
       "    </tr>\n",
       "    <tr>\n",
       "      <th>2</th>\n",
       "      <td>3</td>\n",
       "      <td>90000</td>\n",
       "      <td>2</td>\n",
       "      <td>2</td>\n",
       "      <td>2</td>\n",
       "      <td>34</td>\n",
       "      <td>0</td>\n",
       "      <td>0</td>\n",
       "      <td>0</td>\n",
       "      <td>0</td>\n",
       "      <td>...</td>\n",
       "      <td>14331</td>\n",
       "      <td>14948</td>\n",
       "      <td>15549</td>\n",
       "      <td>1518</td>\n",
       "      <td>1500</td>\n",
       "      <td>1000</td>\n",
       "      <td>1000</td>\n",
       "      <td>1000</td>\n",
       "      <td>5000</td>\n",
       "      <td>0</td>\n",
       "    </tr>\n",
       "  </tbody>\n",
       "</table>\n",
       "<p>3 rows × 25 columns</p>\n",
       "</div>"
      ],
      "text/plain": [
       "   ID  LIMIT_BAL  SEX  EDUCATION  MARRIAGE  AGE  PAY_0  PAY_2  PAY_3  PAY_4  \\\n",
       "0   1      20000    2          2         1   24      2      2     -1     -1   \n",
       "1   2     120000    2          2         2   26     -1      2      0      0   \n",
       "2   3      90000    2          2         2   34      0      0      0      0   \n",
       "\n",
       "              ...              BILL_AMT4  BILL_AMT5  BILL_AMT6  PAY_AMT1  \\\n",
       "0             ...                      0          0          0         0   \n",
       "1             ...                   3272       3455       3261         0   \n",
       "2             ...                  14331      14948      15549      1518   \n",
       "\n",
       "   PAY_AMT2  PAY_AMT3  PAY_AMT4  PAY_AMT5  PAY_AMT6  \\\n",
       "0       689         0         0         0         0   \n",
       "1      1000      1000      1000         0      2000   \n",
       "2      1500      1000      1000      1000      5000   \n",
       "\n",
       "   default payment next month  \n",
       "0                           1  \n",
       "1                           1  \n",
       "2                           0  \n",
       "\n",
       "[3 rows x 25 columns]"
      ]
     },
     "execution_count": 4,
     "metadata": {},
     "output_type": "execute_result"
    }
   ],
   "source": [
    "#Display top of dataframe:\n",
    "df.head(3)"
   ]
  },
  {
   "cell_type": "code",
   "execution_count": 5,
   "metadata": {
    "collapsed": false,
    "deletable": true,
    "editable": true
   },
   "outputs": [
    {
     "data": {
      "text/plain": [
       "Index(['ID', 'LIMIT_BAL', 'SEX', 'EDUCATION', 'MARRIAGE', 'AGE', 'PAY_0',\n",
       "       'PAY_2', 'PAY_3', 'PAY_4', 'PAY_5', 'PAY_6', 'BILL_AMT1', 'BILL_AMT2',\n",
       "       'BILL_AMT3', 'BILL_AMT4', 'BILL_AMT5', 'BILL_AMT6', 'PAY_AMT1',\n",
       "       'PAY_AMT2', 'PAY_AMT3', 'PAY_AMT4', 'PAY_AMT5', 'PAY_AMT6',\n",
       "       'default payment next month'],\n",
       "      dtype='object')"
      ]
     },
     "execution_count": 5,
     "metadata": {},
     "output_type": "execute_result"
    }
   ],
   "source": [
    "#Checking names of all the columns:\n",
    "df.columns"
   ]
  },
  {
   "cell_type": "code",
   "execution_count": 6,
   "metadata": {
    "collapsed": false,
    "deletable": true,
    "editable": true
   },
   "outputs": [
    {
     "data": {
      "text/plain": [
       "(30000, 25)"
      ]
     },
     "execution_count": 6,
     "metadata": {},
     "output_type": "execute_result"
    }
   ],
   "source": [
    "#Checking the shape of our dataset:\n",
    "df.shape"
   ]
  },
  {
   "cell_type": "code",
   "execution_count": 7,
   "metadata": {
    "collapsed": false,
    "deletable": true,
    "editable": true
   },
   "outputs": [
    {
     "name": "stdout",
     "output_type": "stream",
     "text": [
      "<class 'pandas.core.frame.DataFrame'>\n",
      "RangeIndex: 30000 entries, 0 to 29999\n",
      "Data columns (total 25 columns):\n",
      "ID                            30000 non-null int64\n",
      "LIMIT_BAL                     30000 non-null int64\n",
      "SEX                           30000 non-null int64\n",
      "EDUCATION                     30000 non-null int64\n",
      "MARRIAGE                      30000 non-null int64\n",
      "AGE                           30000 non-null int64\n",
      "PAY_0                         30000 non-null int64\n",
      "PAY_2                         30000 non-null int64\n",
      "PAY_3                         30000 non-null int64\n",
      "PAY_4                         30000 non-null int64\n",
      "PAY_5                         30000 non-null int64\n",
      "PAY_6                         30000 non-null int64\n",
      "BILL_AMT1                     30000 non-null int64\n",
      "BILL_AMT2                     30000 non-null int64\n",
      "BILL_AMT3                     30000 non-null int64\n",
      "BILL_AMT4                     30000 non-null int64\n",
      "BILL_AMT5                     30000 non-null int64\n",
      "BILL_AMT6                     30000 non-null int64\n",
      "PAY_AMT1                      30000 non-null int64\n",
      "PAY_AMT2                      30000 non-null int64\n",
      "PAY_AMT3                      30000 non-null int64\n",
      "PAY_AMT4                      30000 non-null int64\n",
      "PAY_AMT5                      30000 non-null int64\n",
      "PAY_AMT6                      30000 non-null int64\n",
      "default payment next month    30000 non-null int64\n",
      "dtypes: int64(25)\n",
      "memory usage: 5.7 MB\n"
     ]
    }
   ],
   "source": [
    "#Checking for columns datatypes and non-missing values:\n",
    "df.info()"
   ]
  },
  {
   "cell_type": "markdown",
   "metadata": {
    "collapsed": true,
    "deletable": true,
    "editable": true
   },
   "source": [
    "- We can see that we have 30,000 rows and 25 columns\n",
    "- In the data info section we can see that we have all 30,000 values in the dataset thus we do not have any null values available\n",
    "- All the data columns are of integer types and thus can be utilized during model implementation"
   ]
  },
  {
   "cell_type": "code",
   "execution_count": 8,
   "metadata": {
    "collapsed": false,
    "deletable": true,
    "editable": true
   },
   "outputs": [],
   "source": [
    "# Function to calculate missing values by column\n",
    "def missing_values_table(df):\n",
    "        # Total missing values\n",
    "        mis_val = df.isnull().sum()\n",
    "        \n",
    "        # Percentage of missing values\n",
    "        mis_val_percent = 100 * df.isnull().sum() / len(df)\n",
    "        \n",
    "        # Make a table with the results\n",
    "        mis_val_table = pd.concat([mis_val, mis_val_percent], axis=1)\n",
    "        \n",
    "        # Rename the columns\n",
    "        mis_val_table_ren_columns = mis_val_table.rename(\n",
    "        columns = {0 : 'Missing Values', 1 : '% of Total Values'})\n",
    "        \n",
    "        # Sort the table by percentage of missing descending\n",
    "        mis_val_table_ren_columns = mis_val_table_ren_columns[\n",
    "            mis_val_table_ren_columns.iloc[:,1] != 0].sort_values(\n",
    "        '% of Total Values', ascending=False).round(1)\n",
    "        \n",
    "        # Print some summary information\n",
    "        print (\"Your selected dataframe has \" + str(df.shape[1]) + \" columns.\\n\"      \n",
    "            \"There are \" + str(mis_val_table_ren_columns.shape[0]) +\n",
    "              \" columns that have missing values.\")\n",
    "        \n",
    "        # Return the dataframe with missing information\n",
    "        return mis_val_table_ren_columns"
   ]
  },
  {
   "cell_type": "code",
   "execution_count": 9,
   "metadata": {
    "collapsed": false,
    "deletable": true,
    "editable": true
   },
   "outputs": [
    {
     "name": "stdout",
     "output_type": "stream",
     "text": [
      "Your selected dataframe has 25 columns.\n",
      "There are 0 columns that have missing values.\n"
     ]
    },
    {
     "data": {
      "text/html": [
       "<div>\n",
       "<style>\n",
       "    .dataframe thead tr:only-child th {\n",
       "        text-align: right;\n",
       "    }\n",
       "\n",
       "    .dataframe thead th {\n",
       "        text-align: left;\n",
       "    }\n",
       "\n",
       "    .dataframe tbody tr th {\n",
       "        vertical-align: top;\n",
       "    }\n",
       "</style>\n",
       "<table border=\"1\" class=\"dataframe\">\n",
       "  <thead>\n",
       "    <tr style=\"text-align: right;\">\n",
       "      <th></th>\n",
       "      <th>Missing Values</th>\n",
       "      <th>% of Total Values</th>\n",
       "    </tr>\n",
       "  </thead>\n",
       "  <tbody>\n",
       "  </tbody>\n",
       "</table>\n",
       "</div>"
      ],
      "text/plain": [
       "Empty DataFrame\n",
       "Columns: [Missing Values, % of Total Values]\n",
       "Index: []"
      ]
     },
     "execution_count": 9,
     "metadata": {},
     "output_type": "execute_result"
    }
   ],
   "source": [
    "missing_values_table(df)"
   ]
  },
  {
   "cell_type": "code",
   "execution_count": 10,
   "metadata": {
    "collapsed": false,
    "deletable": true,
    "editable": true
   },
   "outputs": [
    {
     "data": {
      "text/html": [
       "<div>\n",
       "<style>\n",
       "    .dataframe thead tr:only-child th {\n",
       "        text-align: right;\n",
       "    }\n",
       "\n",
       "    .dataframe thead th {\n",
       "        text-align: left;\n",
       "    }\n",
       "\n",
       "    .dataframe tbody tr th {\n",
       "        vertical-align: top;\n",
       "    }\n",
       "</style>\n",
       "<table border=\"1\" class=\"dataframe\">\n",
       "  <thead>\n",
       "    <tr style=\"text-align: right;\">\n",
       "      <th></th>\n",
       "      <th>ID</th>\n",
       "      <th>LIMIT_BAL</th>\n",
       "      <th>SEX</th>\n",
       "      <th>EDUCATION</th>\n",
       "      <th>MARRIAGE</th>\n",
       "      <th>AGE</th>\n",
       "      <th>PAY_0</th>\n",
       "      <th>PAY_2</th>\n",
       "      <th>PAY_3</th>\n",
       "      <th>PAY_4</th>\n",
       "      <th>...</th>\n",
       "      <th>BILL_AMT4</th>\n",
       "      <th>BILL_AMT5</th>\n",
       "      <th>BILL_AMT6</th>\n",
       "      <th>PAY_AMT1</th>\n",
       "      <th>PAY_AMT2</th>\n",
       "      <th>PAY_AMT3</th>\n",
       "      <th>PAY_AMT4</th>\n",
       "      <th>PAY_AMT5</th>\n",
       "      <th>PAY_AMT6</th>\n",
       "      <th>default payment next month</th>\n",
       "    </tr>\n",
       "  </thead>\n",
       "  <tbody>\n",
       "    <tr>\n",
       "      <th>count</th>\n",
       "      <td>30000.000000</td>\n",
       "      <td>30000.000000</td>\n",
       "      <td>30000.000000</td>\n",
       "      <td>30000.000000</td>\n",
       "      <td>30000.000000</td>\n",
       "      <td>30000.000000</td>\n",
       "      <td>30000.000000</td>\n",
       "      <td>30000.000000</td>\n",
       "      <td>30000.000000</td>\n",
       "      <td>30000.000000</td>\n",
       "      <td>...</td>\n",
       "      <td>30000.000000</td>\n",
       "      <td>30000.000000</td>\n",
       "      <td>30000.000000</td>\n",
       "      <td>30000.000000</td>\n",
       "      <td>3.000000e+04</td>\n",
       "      <td>30000.00000</td>\n",
       "      <td>30000.000000</td>\n",
       "      <td>30000.000000</td>\n",
       "      <td>30000.000000</td>\n",
       "      <td>30000.000000</td>\n",
       "    </tr>\n",
       "    <tr>\n",
       "      <th>mean</th>\n",
       "      <td>15000.500000</td>\n",
       "      <td>167484.322667</td>\n",
       "      <td>1.603733</td>\n",
       "      <td>1.853133</td>\n",
       "      <td>1.551867</td>\n",
       "      <td>35.485500</td>\n",
       "      <td>-0.016700</td>\n",
       "      <td>-0.133767</td>\n",
       "      <td>-0.166200</td>\n",
       "      <td>-0.220667</td>\n",
       "      <td>...</td>\n",
       "      <td>43262.948967</td>\n",
       "      <td>40311.400967</td>\n",
       "      <td>38871.760400</td>\n",
       "      <td>5663.580500</td>\n",
       "      <td>5.921163e+03</td>\n",
       "      <td>5225.68150</td>\n",
       "      <td>4826.076867</td>\n",
       "      <td>4799.387633</td>\n",
       "      <td>5215.502567</td>\n",
       "      <td>0.221200</td>\n",
       "    </tr>\n",
       "    <tr>\n",
       "      <th>std</th>\n",
       "      <td>8660.398374</td>\n",
       "      <td>129747.661567</td>\n",
       "      <td>0.489129</td>\n",
       "      <td>0.790349</td>\n",
       "      <td>0.521970</td>\n",
       "      <td>9.217904</td>\n",
       "      <td>1.123802</td>\n",
       "      <td>1.197186</td>\n",
       "      <td>1.196868</td>\n",
       "      <td>1.169139</td>\n",
       "      <td>...</td>\n",
       "      <td>64332.856134</td>\n",
       "      <td>60797.155770</td>\n",
       "      <td>59554.107537</td>\n",
       "      <td>16563.280354</td>\n",
       "      <td>2.304087e+04</td>\n",
       "      <td>17606.96147</td>\n",
       "      <td>15666.159744</td>\n",
       "      <td>15278.305679</td>\n",
       "      <td>17777.465775</td>\n",
       "      <td>0.415062</td>\n",
       "    </tr>\n",
       "    <tr>\n",
       "      <th>min</th>\n",
       "      <td>1.000000</td>\n",
       "      <td>10000.000000</td>\n",
       "      <td>1.000000</td>\n",
       "      <td>0.000000</td>\n",
       "      <td>0.000000</td>\n",
       "      <td>21.000000</td>\n",
       "      <td>-2.000000</td>\n",
       "      <td>-2.000000</td>\n",
       "      <td>-2.000000</td>\n",
       "      <td>-2.000000</td>\n",
       "      <td>...</td>\n",
       "      <td>-170000.000000</td>\n",
       "      <td>-81334.000000</td>\n",
       "      <td>-339603.000000</td>\n",
       "      <td>0.000000</td>\n",
       "      <td>0.000000e+00</td>\n",
       "      <td>0.00000</td>\n",
       "      <td>0.000000</td>\n",
       "      <td>0.000000</td>\n",
       "      <td>0.000000</td>\n",
       "      <td>0.000000</td>\n",
       "    </tr>\n",
       "    <tr>\n",
       "      <th>25%</th>\n",
       "      <td>7500.750000</td>\n",
       "      <td>50000.000000</td>\n",
       "      <td>1.000000</td>\n",
       "      <td>1.000000</td>\n",
       "      <td>1.000000</td>\n",
       "      <td>28.000000</td>\n",
       "      <td>-1.000000</td>\n",
       "      <td>-1.000000</td>\n",
       "      <td>-1.000000</td>\n",
       "      <td>-1.000000</td>\n",
       "      <td>...</td>\n",
       "      <td>2326.750000</td>\n",
       "      <td>1763.000000</td>\n",
       "      <td>1256.000000</td>\n",
       "      <td>1000.000000</td>\n",
       "      <td>8.330000e+02</td>\n",
       "      <td>390.00000</td>\n",
       "      <td>296.000000</td>\n",
       "      <td>252.500000</td>\n",
       "      <td>117.750000</td>\n",
       "      <td>0.000000</td>\n",
       "    </tr>\n",
       "    <tr>\n",
       "      <th>50%</th>\n",
       "      <td>15000.500000</td>\n",
       "      <td>140000.000000</td>\n",
       "      <td>2.000000</td>\n",
       "      <td>2.000000</td>\n",
       "      <td>2.000000</td>\n",
       "      <td>34.000000</td>\n",
       "      <td>0.000000</td>\n",
       "      <td>0.000000</td>\n",
       "      <td>0.000000</td>\n",
       "      <td>0.000000</td>\n",
       "      <td>...</td>\n",
       "      <td>19052.000000</td>\n",
       "      <td>18104.500000</td>\n",
       "      <td>17071.000000</td>\n",
       "      <td>2100.000000</td>\n",
       "      <td>2.009000e+03</td>\n",
       "      <td>1800.00000</td>\n",
       "      <td>1500.000000</td>\n",
       "      <td>1500.000000</td>\n",
       "      <td>1500.000000</td>\n",
       "      <td>0.000000</td>\n",
       "    </tr>\n",
       "    <tr>\n",
       "      <th>75%</th>\n",
       "      <td>22500.250000</td>\n",
       "      <td>240000.000000</td>\n",
       "      <td>2.000000</td>\n",
       "      <td>2.000000</td>\n",
       "      <td>2.000000</td>\n",
       "      <td>41.000000</td>\n",
       "      <td>0.000000</td>\n",
       "      <td>0.000000</td>\n",
       "      <td>0.000000</td>\n",
       "      <td>0.000000</td>\n",
       "      <td>...</td>\n",
       "      <td>54506.000000</td>\n",
       "      <td>50190.500000</td>\n",
       "      <td>49198.250000</td>\n",
       "      <td>5006.000000</td>\n",
       "      <td>5.000000e+03</td>\n",
       "      <td>4505.00000</td>\n",
       "      <td>4013.250000</td>\n",
       "      <td>4031.500000</td>\n",
       "      <td>4000.000000</td>\n",
       "      <td>0.000000</td>\n",
       "    </tr>\n",
       "    <tr>\n",
       "      <th>max</th>\n",
       "      <td>30000.000000</td>\n",
       "      <td>1000000.000000</td>\n",
       "      <td>2.000000</td>\n",
       "      <td>6.000000</td>\n",
       "      <td>3.000000</td>\n",
       "      <td>79.000000</td>\n",
       "      <td>8.000000</td>\n",
       "      <td>8.000000</td>\n",
       "      <td>8.000000</td>\n",
       "      <td>8.000000</td>\n",
       "      <td>...</td>\n",
       "      <td>891586.000000</td>\n",
       "      <td>927171.000000</td>\n",
       "      <td>961664.000000</td>\n",
       "      <td>873552.000000</td>\n",
       "      <td>1.684259e+06</td>\n",
       "      <td>896040.00000</td>\n",
       "      <td>621000.000000</td>\n",
       "      <td>426529.000000</td>\n",
       "      <td>528666.000000</td>\n",
       "      <td>1.000000</td>\n",
       "    </tr>\n",
       "  </tbody>\n",
       "</table>\n",
       "<p>8 rows × 25 columns</p>\n",
       "</div>"
      ],
      "text/plain": [
       "                 ID       LIMIT_BAL           SEX     EDUCATION      MARRIAGE  \\\n",
       "count  30000.000000    30000.000000  30000.000000  30000.000000  30000.000000   \n",
       "mean   15000.500000   167484.322667      1.603733      1.853133      1.551867   \n",
       "std     8660.398374   129747.661567      0.489129      0.790349      0.521970   \n",
       "min        1.000000    10000.000000      1.000000      0.000000      0.000000   \n",
       "25%     7500.750000    50000.000000      1.000000      1.000000      1.000000   \n",
       "50%    15000.500000   140000.000000      2.000000      2.000000      2.000000   \n",
       "75%    22500.250000   240000.000000      2.000000      2.000000      2.000000   \n",
       "max    30000.000000  1000000.000000      2.000000      6.000000      3.000000   \n",
       "\n",
       "                AGE         PAY_0         PAY_2         PAY_3         PAY_4  \\\n",
       "count  30000.000000  30000.000000  30000.000000  30000.000000  30000.000000   \n",
       "mean      35.485500     -0.016700     -0.133767     -0.166200     -0.220667   \n",
       "std        9.217904      1.123802      1.197186      1.196868      1.169139   \n",
       "min       21.000000     -2.000000     -2.000000     -2.000000     -2.000000   \n",
       "25%       28.000000     -1.000000     -1.000000     -1.000000     -1.000000   \n",
       "50%       34.000000      0.000000      0.000000      0.000000      0.000000   \n",
       "75%       41.000000      0.000000      0.000000      0.000000      0.000000   \n",
       "max       79.000000      8.000000      8.000000      8.000000      8.000000   \n",
       "\n",
       "                  ...                  BILL_AMT4      BILL_AMT5  \\\n",
       "count             ...               30000.000000   30000.000000   \n",
       "mean              ...               43262.948967   40311.400967   \n",
       "std               ...               64332.856134   60797.155770   \n",
       "min               ...             -170000.000000  -81334.000000   \n",
       "25%               ...                2326.750000    1763.000000   \n",
       "50%               ...               19052.000000   18104.500000   \n",
       "75%               ...               54506.000000   50190.500000   \n",
       "max               ...              891586.000000  927171.000000   \n",
       "\n",
       "           BILL_AMT6       PAY_AMT1      PAY_AMT2      PAY_AMT3  \\\n",
       "count   30000.000000   30000.000000  3.000000e+04   30000.00000   \n",
       "mean    38871.760400    5663.580500  5.921163e+03    5225.68150   \n",
       "std     59554.107537   16563.280354  2.304087e+04   17606.96147   \n",
       "min   -339603.000000       0.000000  0.000000e+00       0.00000   \n",
       "25%      1256.000000    1000.000000  8.330000e+02     390.00000   \n",
       "50%     17071.000000    2100.000000  2.009000e+03    1800.00000   \n",
       "75%     49198.250000    5006.000000  5.000000e+03    4505.00000   \n",
       "max    961664.000000  873552.000000  1.684259e+06  896040.00000   \n",
       "\n",
       "            PAY_AMT4       PAY_AMT5       PAY_AMT6  default payment next month  \n",
       "count   30000.000000   30000.000000   30000.000000                30000.000000  \n",
       "mean     4826.076867    4799.387633    5215.502567                    0.221200  \n",
       "std     15666.159744   15278.305679   17777.465775                    0.415062  \n",
       "min         0.000000       0.000000       0.000000                    0.000000  \n",
       "25%       296.000000     252.500000     117.750000                    0.000000  \n",
       "50%      1500.000000    1500.000000    1500.000000                    0.000000  \n",
       "75%      4013.250000    4031.500000    4000.000000                    0.000000  \n",
       "max    621000.000000  426529.000000  528666.000000                    1.000000  \n",
       "\n",
       "[8 rows x 25 columns]"
      ]
     },
     "execution_count": 10,
     "metadata": {},
     "output_type": "execute_result"
    }
   ],
   "source": [
    "#Checking data statistics of every column:\n",
    "df.describe()"
   ]
  },
  {
   "cell_type": "markdown",
   "metadata": {
    "deletable": true,
    "editable": true
   },
   "source": [
    "# 2 . Eploratory Data Analysis:\n",
    "\n",
    "The data does not has any missing values and thus we are ready for an Exploratory Data Analysis where we will conduct univariate and bivariate analysis to detect any kind of trend anamoly, pattern or relatonships in the variables present. "
   ]
  },
  {
   "cell_type": "code",
   "execution_count": 11,
   "metadata": {
    "collapsed": false,
    "deletable": true,
    "editable": true
   },
   "outputs": [
    {
     "data": {
      "image/png": "[encoded data removed]",
      "text/plain": [
       "<matplotlib.figure.Figure at 0x21055b96c18>"
      ]
     },
     "metadata": {},
     "output_type": "display_data"
    }
   ],
   "source": [
    "#Checking Feature correlation for Bill Amt:\n",
    "var = ['BILL_AMT1','BILL_AMT2','BILL_AMT3','BILL_AMT4','BILL_AMT5','BILL_AMT6']\n",
    "plt.title('Amount of bill statement (Apr to Sept) : correlation plot')\n",
    "corr = df[var].corr()\n",
    "sns.heatmap(corr,xticklabels=corr.columns,yticklabels=corr.columns,linewidths=.1,vmin=-1, vmax=1)\n",
    "plt.show()"
   ]
  },
  {
   "cell_type": "markdown",
   "metadata": {
    "deletable": true,
    "editable": true
   },
   "source": [
    "#We can see in the above plot that the correlation between months is decreasing as the months are increasing with the most between April and Septemebr"
   ]
  },
  {
   "cell_type": "code",
   "execution_count": 12,
   "metadata": {
    "collapsed": false,
    "deletable": true,
    "editable": true
   },
   "outputs": [
    {
     "data": {
      "image/png": "[encoded data removed]",
      "text/plain": [
       "<matplotlib.figure.Figure at 0x21055dacc18>"
      ]
     },
     "metadata": {},
     "output_type": "display_data"
    }
   ],
   "source": [
    "var = ['PAY_AMT1', 'PAY_AMT2', 'PAY_AMT3', 'PAY_AMT4', 'PAY_AMT5']\n",
    "plt.title('Amount of previous payment (Apr-Sept) \\ncorrelation plot (Pearson)')\n",
    "corr = df[var].corr()\n",
    "sns.heatmap(corr,xticklabels=corr.columns,yticklabels=corr.columns,linewidths=.1,vmin=-1, vmax=1)\n",
    "plt.show()"
   ]
  },
  {
   "cell_type": "markdown",
   "metadata": {
    "deletable": true,
    "editable": true
   },
   "source": [
    "#We do not see much of a correlation between the payment amounts"
   ]
  },
  {
   "cell_type": "code",
   "execution_count": 13,
   "metadata": {
    "collapsed": false,
    "deletable": true,
    "editable": true
   },
   "outputs": [
    {
     "data": {
      "image/png": "[encoded data removed]",
      "text/plain": [
       "<matplotlib.figure.Figure at 0x21056017710>"
      ]
     },
     "metadata": {},
     "output_type": "display_data"
    }
   ],
   "source": [
    "var = ['PAY_0','PAY_2', 'PAY_3', 'PAY_4', 'PAY_5', 'PAY_6']\n",
    "plt.title('Repayment status (Apr-Sept) \\ncorrelation plot (Pearson)')\n",
    "corr = df[var].corr()\n",
    "sns.heatmap(corr,xticklabels=corr.columns,yticklabels=corr.columns,linewidths=.1,vmin=-1, vmax=1)\n",
    "plt.show()"
   ]
  },
  {
   "cell_type": "markdown",
   "metadata": {
    "deletable": true,
    "editable": true
   },
   "source": [
    "#Correlation is decreasing as the months are increasing"
   ]
  },
  {
   "cell_type": "markdown",
   "metadata": {
    "deletable": true,
    "editable": true
   },
   "source": [
    "\n",
    "In order to quantify the correlations between the features (variables) and the target, we can calculate the \"Pearson correlation coefficient\". This is a measure of the strength and direction of a linear relationship between two variables. A value of -1 means the two variables are perfectly negatively lineraly related and a value of +1 means the two variables are perfectly positivly lineraly correlated. Altough there can be non-linear relationships between the features and targets and correlation coefficients do not account for interactions between features, linear relationships are still a good way to see a trend in the data. We can use these values to select features in our model.\n",
    "\n",
    "We do not see any prominent strong correlations. The variable most negatively correlated with our target variable is LIMIT_BAL and most positively related is PAY_0."
   ]
  },
  {
   "cell_type": "code",
   "execution_count": 14,
   "metadata": {
    "collapsed": false,
    "deletable": true,
    "editable": true,
    "scrolled": true
   },
   "outputs": [
    {
     "name": "stdout",
     "output_type": "stream",
     "text": [
      "LIMIT_BAL                    -0.153520\n",
      "PAY_AMT1                     -0.072929\n",
      "PAY_AMT2                     -0.058579\n",
      "PAY_AMT4                     -0.056827\n",
      "PAY_AMT3                     -0.056250\n",
      "PAY_AMT5                     -0.055124\n",
      "PAY_AMT6                     -0.053183\n",
      "SEX                          -0.039961\n",
      "MARRIAGE                     -0.024339\n",
      "BILL_AMT1                    -0.019644\n",
      "BILL_AMT2                    -0.014193\n",
      "BILL_AMT3                    -0.014076\n",
      "ID                           -0.013952\n",
      "BILL_AMT4                    -0.010156\n",
      "BILL_AMT5                    -0.006760\n",
      "BILL_AMT6                    -0.005372\n",
      "AGE                           0.013890\n",
      "EDUCATION                     0.028006\n",
      "PAY_6                         0.186866\n",
      "PAY_5                         0.204149\n",
      "PAY_4                         0.216614\n",
      "PAY_3                         0.235253\n",
      "PAY_2                         0.263551\n",
      "PAY_0                         0.324794\n",
      "default payment next month    1.000000\n",
      "Name: default payment next month, dtype: float64 \n",
      "\n"
     ]
    }
   ],
   "source": [
    "#Correlations between independent variables and target variable:\n",
    "# - Finding correlations and sorting them:\n",
    "corr_data = df.corr()['default payment next month'].sort_values()\n",
    "#Print the correlations:\n",
    "print(corr_data, '\\n')"
   ]
  },
  {
   "cell_type": "code",
   "execution_count": 15,
   "metadata": {
    "collapsed": false,
    "deletable": true,
    "editable": true
   },
   "outputs": [
    {
     "data": {
      "image/png": "[encoded data removed]",
      "text/plain": [
       "<matplotlib.figure.Figure at 0x21055dd1908>"
      ]
     },
     "metadata": {},
     "output_type": "display_data"
    }
   ],
   "source": [
    "#Single Variable Plots:\n",
    "count_default_payments = pd.value_counts(df['default payment next month'], sort = True). sort_index()\n",
    "count_default_payments.plot(kind = 'bar')\n",
    "plt.title(\"Default paymnet count bar chart\")\n",
    "plt.xlabel(\"Default payment Class\")\n",
    "plt.ylabel(\"Frequency\")\n",
    "plt.show()"
   ]
  },
  {
   "cell_type": "markdown",
   "metadata": {
    "deletable": true,
    "editable": true
   },
   "source": [
    "- From the above chart we can see that > 6000 clients (~ 20 %) out of the total 30,000 clients will default out and won't pay in the coming months"
   ]
  },
  {
   "cell_type": "code",
   "execution_count": 16,
   "metadata": {
    "collapsed": false,
    "deletable": true,
    "editable": true
   },
   "outputs": [
    {
     "data": {
      "image/png": "[encoded data removed]",
      "text/plain": [
       "<matplotlib.figure.Figure at 0x21056184630>"
      ]
     },
     "metadata": {},
     "output_type": "display_data"
    }
   ],
   "source": [
    "# Exploring LIMT_BAL column:\n",
    "plt.title('Amount of credit limit - Density Plot')\n",
    "sns.set_color_codes(\"dark\")\n",
    "sns.distplot(df['LIMIT_BAL'],kde=True,bins=100, color=\"red\")\n",
    "plt.show()"
   ]
  },
  {
   "cell_type": "markdown",
   "metadata": {
    "deletable": true,
    "editable": true
   },
   "source": [
    "Largest group of credit limit appears to be ~ 50,000 which can be verified below:"
   ]
  },
  {
   "cell_type": "code",
   "execution_count": 17,
   "metadata": {
    "collapsed": false,
    "deletable": true,
    "editable": true
   },
   "outputs": [
    {
     "data": {
      "text/plain": [
       "(81,)"
      ]
     },
     "execution_count": 17,
     "metadata": {},
     "output_type": "execute_result"
    }
   ],
   "source": [
    "df['LIMIT_BAL'].value_counts().shape"
   ]
  },
  {
   "cell_type": "code",
   "execution_count": 18,
   "metadata": {
    "collapsed": false,
    "deletable": true,
    "editable": true
   },
   "outputs": [
    {
     "data": {
      "text/plain": [
       "50000     3365\n",
       "20000     1976\n",
       "30000     1610\n",
       "80000     1567\n",
       "200000    1528\n",
       "Name: LIMIT_BAL, dtype: int64"
      ]
     },
     "execution_count": 18,
     "metadata": {},
     "output_type": "execute_result"
    }
   ],
   "source": [
    "#Shows that Limit Balanace has 81 distinct values\n",
    "df['LIMIT_BAL'].value_counts().head(5)"
   ]
  },
  {
   "cell_type": "markdown",
   "metadata": {
    "deletable": true,
    "editable": true
   },
   "source": [
    "#We can see that maximum number of people lie in the 50 k credit limit range:"
   ]
  },
  {
   "cell_type": "code",
   "execution_count": 19,
   "metadata": {
    "collapsed": false,
    "deletable": true,
    "editable": true
   },
   "outputs": [
    {
     "data": {
      "image/png": "[encoded data removed]",
      "text/plain": [
       "<matplotlib.figure.Figure at 0x210562365f8>"
      ]
     },
     "metadata": {},
     "output_type": "display_data"
    }
   ],
   "source": [
    "class_0 = df.loc[df['default payment next month'] == 0][\"LIMIT_BAL\"]\n",
    "class_1 = df.loc[df['default payment next month'] == 1][\"LIMIT_BAL\"]\n",
    "plt.figure(figsize = (14,6))\n",
    "plt.title('Default amount of credit limit  - grouped by Payment Next Month (Density Plot)')\n",
    "sns.set_color_codes(\"pastel\")\n",
    "sns.distplot(class_1,kde=True,bins=100, color=\"red\")\n",
    "sns.distplot(class_0,kde=True,bins=100, color=\"blue\")\n",
    "plt.show()"
   ]
  },
  {
   "cell_type": "markdown",
   "metadata": {
    "deletable": true,
    "editable": true
   },
   "source": [
    "#The default rate identified by red line is the most for credit limits 0 - 1,00,0000 and this groups density of defaulter is larger here than the normal.The number of defaulters decrease as the credit limit increases. \n"
   ]
  },
  {
   "cell_type": "markdown",
   "metadata": {
    "deletable": true,
    "editable": true
   },
   "source": [
    "- Let us explore the distribution of or categorical variables:"
   ]
  },
  {
   "cell_type": "code",
   "execution_count": 20,
   "metadata": {
    "collapsed": false,
    "deletable": true,
    "editable": true
   },
   "outputs": [
    {
     "data": {
      "text/plain": [
       "2    15964\n",
       "1    13659\n",
       "3      323\n",
       "0       54\n",
       "Name: MARRIAGE, dtype: int64"
      ]
     },
     "execution_count": 20,
     "metadata": {},
     "output_type": "execute_result"
    }
   ],
   "source": [
    "df['MARRIAGE'].value_counts()"
   ]
  },
  {
   "cell_type": "code",
   "execution_count": 21,
   "metadata": {
    "collapsed": false,
    "deletable": true,
    "editable": true
   },
   "outputs": [
    {
     "data": {
      "text/plain": [
       "2    18112\n",
       "1    11888\n",
       "Name: SEX, dtype: int64"
      ]
     },
     "execution_count": 21,
     "metadata": {},
     "output_type": "execute_result"
    }
   ],
   "source": [
    "df['SEX'].value_counts()"
   ]
  },
  {
   "cell_type": "code",
   "execution_count": 22,
   "metadata": {
    "collapsed": false,
    "deletable": true,
    "editable": true
   },
   "outputs": [
    {
     "data": {
      "text/plain": [
       "2    14030\n",
       "1    10585\n",
       "3     4917\n",
       "5      280\n",
       "4      123\n",
       "6       51\n",
       "0       14\n",
       "Name: EDUCATION, dtype: int64"
      ]
     },
     "execution_count": 22,
     "metadata": {},
     "output_type": "execute_result"
    }
   ],
   "source": [
    "df['EDUCATION'].value_counts()"
   ]
  },
  {
   "cell_type": "markdown",
   "metadata": {
    "deletable": true,
    "editable": true
   },
   "source": [
    "- Let us use histograms to see the trend in numerical variables:"
   ]
  },
  {
   "cell_type": "code",
   "execution_count": 23,
   "metadata": {
    "collapsed": true,
    "deletable": true,
    "editable": true
   },
   "outputs": [],
   "source": [
    "def draw_histograms(df, variables, n_rows, n_cols, n_bins):\n",
    "    fig=plt.figure()\n",
    "    for i, var_name in enumerate(variables):\n",
    "        ax=fig.add_subplot(n_rows,n_cols,i+1)\n",
    "        df[var_name].hist(bins=n_bins,ax=ax)\n",
    "        ax.set_title(var_name)\n",
    "    fig.tight_layout()\n",
    "    plt.show()"
   ]
  },
  {
   "cell_type": "code",
   "execution_count": 24,
   "metadata": {
    "collapsed": false,
    "deletable": true,
    "editable": true
   },
   "outputs": [
    {
     "data": {
      "image/png": "[encoded data removed]",
      "text/plain": [
       "<matplotlib.figure.Figure at 0x210569f3908>"
      ]
     },
     "metadata": {},
     "output_type": "display_data"
    }
   ],
   "source": [
    "bills = df[['BILL_AMT1','BILL_AMT2', 'BILL_AMT3', 'BILL_AMT4', 'BILL_AMT5', 'BILL_AMT6']]\n",
    "draw_histograms(bills, bills.columns, 2, 3, 20)"
   ]
  },
  {
   "cell_type": "markdown",
   "metadata": {
    "deletable": true,
    "editable": true
   },
   "source": [
    "pay = df[['PAY_AMT1','PAY_AMT2', 'PAY_AMT3', 'PAY_AMT4', 'PAY_AMT5', 'PAY_AMT6']]\n",
    "draw_histograms(pay, pay.columns, 2, 3, 20)"
   ]
  },
  {
   "cell_type": "code",
   "execution_count": 25,
   "metadata": {
    "collapsed": false,
    "deletable": true,
    "editable": true
   },
   "outputs": [
    {
     "data": {
      "image/png": "[encoded data removed]",
      "text/plain": [
       "<matplotlib.figure.Figure at 0x21057c0a5c0>"
      ]
     },
     "metadata": {},
     "output_type": "display_data"
    }
   ],
   "source": [
    "late = df[['PAY_0','PAY_2', 'PAY_3', 'PAY_4', 'PAY_5', 'PAY_6']]\n",
    "draw_histograms(late, late.columns, 2, 3, 10)"
   ]
  },
  {
   "cell_type": "markdown",
   "metadata": {
    "deletable": true,
    "editable": true
   },
   "source": [
    "- From above data exploration we can see that some of the data points are missclassified and need to be treated.\n",
    ". The \"0\" is marriage can be classified as \"3\" or Other.\n",
    ". The \"0\" (undocumented), \"5\" and \"6\" (label unknown) in EDUCATION can also be put in a 'Other' cathegory (thus 4)"
   ]
  },
  {
   "cell_type": "markdown",
   "metadata": {
    "deletable": true,
    "editable": true
   },
   "source": [
    "From above data exploration we can see that some of the data points are missclassified and need to be treated. \n",
    ".The \"0\" is marriage can be classified as \"3\" or Other which can be divorced etx\n",
    ".The \"0\" (undocumented), \"5\" and \"6\" (label unknown) in EDUCATION can also be put in a 'Other' cathegory which maye be less than high school education"
   ]
  },
  {
   "cell_type": "code",
   "execution_count": 26,
   "metadata": {
    "collapsed": false,
    "deletable": true,
    "editable": true
   },
   "outputs": [
    {
     "data": {
      "text/plain": [
       "2    14030\n",
       "1    10585\n",
       "3     4917\n",
       "4      468\n",
       "Name: EDUCATION, dtype: int64"
      ]
     },
     "execution_count": 26,
     "metadata": {},
     "output_type": "execute_result"
    }
   ],
   "source": [
    "fill = (df.EDUCATION == 5) | (df.EDUCATION == 6) | (df.EDUCATION == 0)\n",
    "df.loc[fill, 'EDUCATION'] = 4\n",
    "df.EDUCATION.value_counts()"
   ]
  },
  {
   "cell_type": "code",
   "execution_count": 27,
   "metadata": {
    "collapsed": false,
    "deletable": true,
    "editable": true
   },
   "outputs": [
    {
     "data": {
      "text/plain": [
       "2    15964\n",
       "1    13659\n",
       "3      377\n",
       "Name: MARRIAGE, dtype: int64"
      ]
     },
     "execution_count": 27,
     "metadata": {},
     "output_type": "execute_result"
    }
   ],
   "source": [
    "df.loc[df.MARRIAGE == 0, 'MARRIAGE'] = 3\n",
    "df.MARRIAGE.value_counts()"
   ]
  },
  {
   "cell_type": "code",
   "execution_count": 28,
   "metadata": {
    "collapsed": false,
    "deletable": true,
    "editable": true
   },
   "outputs": [
    {
     "data": {
      "image/png": "[encoded data removed]",
      "text/plain": [
       "<matplotlib.figure.Figure at 0x210583c45c0>"
      ]
     },
     "metadata": {},
     "output_type": "display_data"
    }
   ],
   "source": [
    "#Cleaning the pay columns. We have seen in the docment that pay duly is denoted by \"-1\" then \"-2\" and \"0\" should \n",
    "#not have any significance. Let us transform them in all pay columns:\n",
    "fill = (df.PAY_0 == -2)  | (df.PAY_0 == 0)\n",
    "df.loc[fill, 'PAY_0'] = -1\n",
    "fill = (df.PAY_2 == -2) | (df.PAY_2 == 0)\n",
    "df.loc[fill, 'PAY_2'] = -1\n",
    "fill = (df.PAY_3 == -2) | (df.PAY_3 == 0)\n",
    "df.loc[fill, 'PAY_3'] = -1\n",
    "fill = (df.PAY_4 == -2) | (df.PAY_4 == 0)\n",
    "df.loc[fill, 'PAY_4'] = -1\n",
    "fill = (df.PAY_5 == -2) | (df.PAY_5 == 0)\n",
    "df.loc[fill, 'PAY_5'] = -1\n",
    "fill = (df.PAY_6 == -2) | (df.PAY_6 == 0)\n",
    "df.loc[fill, 'PAY_6'] = -1\n",
    "late = df[['PAY_0','PAY_2', 'PAY_3', 'PAY_4', 'PAY_5', 'PAY_6']]\n",
    "draw_histograms(late, late.columns, 2, 3, 10)"
   ]
  },
  {
   "cell_type": "markdown",
   "metadata": {
    "deletable": true,
    "editable": true
   },
   "source": [
    "- Most of the cleaning has been done. Let us try and do a correlation analysis to see how independent and target variables are correlated to each other."
   ]
  },
  {
   "cell_type": "code",
   "execution_count": 29,
   "metadata": {
    "collapsed": true,
    "deletable": true,
    "editable": true
   },
   "outputs": [],
   "source": [
    "def corr_2_vars(Var1, Var2):\n",
    "    res = df.groupby([Var1, Var2]).size().unstack()\n",
    "    res['perc'] = (res[res.columns[1]]/(res[res.columns[0]] + res[res.columns[1]]))\n",
    "    return res"
   ]
  },
  {
   "cell_type": "code",
   "execution_count": 30,
   "metadata": {
    "collapsed": false,
    "deletable": true,
    "editable": true
   },
   "outputs": [
    {
     "data": {
      "text/html": [
       "<div>\n",
       "<style>\n",
       "    .dataframe thead tr:only-child th {\n",
       "        text-align: right;\n",
       "    }\n",
       "\n",
       "    .dataframe thead th {\n",
       "        text-align: left;\n",
       "    }\n",
       "\n",
       "    .dataframe tbody tr th {\n",
       "        vertical-align: top;\n",
       "    }\n",
       "</style>\n",
       "<table border=\"1\" class=\"dataframe\">\n",
       "  <thead>\n",
       "    <tr style=\"text-align: right;\">\n",
       "      <th>default payment next month</th>\n",
       "      <th>0</th>\n",
       "      <th>1</th>\n",
       "      <th>perc</th>\n",
       "    </tr>\n",
       "    <tr>\n",
       "      <th>EDUCATION</th>\n",
       "      <th></th>\n",
       "      <th></th>\n",
       "      <th></th>\n",
       "    </tr>\n",
       "  </thead>\n",
       "  <tbody>\n",
       "    <tr>\n",
       "      <th>1</th>\n",
       "      <td>8549</td>\n",
       "      <td>2036</td>\n",
       "      <td>0.192348</td>\n",
       "    </tr>\n",
       "    <tr>\n",
       "      <th>2</th>\n",
       "      <td>10700</td>\n",
       "      <td>3330</td>\n",
       "      <td>0.237349</td>\n",
       "    </tr>\n",
       "    <tr>\n",
       "      <th>3</th>\n",
       "      <td>3680</td>\n",
       "      <td>1237</td>\n",
       "      <td>0.251576</td>\n",
       "    </tr>\n",
       "    <tr>\n",
       "      <th>4</th>\n",
       "      <td>435</td>\n",
       "      <td>33</td>\n",
       "      <td>0.070513</td>\n",
       "    </tr>\n",
       "  </tbody>\n",
       "</table>\n",
       "</div>"
      ],
      "text/plain": [
       "default payment next month      0     1      perc\n",
       "EDUCATION                                        \n",
       "1                            8549  2036  0.192348\n",
       "2                           10700  3330  0.237349\n",
       "3                            3680  1237  0.251576\n",
       "4                             435    33  0.070513"
      ]
     },
     "execution_count": 30,
     "metadata": {},
     "output_type": "execute_result"
    }
   ],
   "source": [
    "# Let us compare education and target variable:\n",
    "corr_2_vars('EDUCATION', 'default payment next month')"
   ]
  },
  {
   "cell_type": "markdown",
   "metadata": {
    "deletable": true,
    "editable": true
   },
   "source": [
    " - We can see above that the probability of being a defaulter decreases as the education level increases with the only exception as Category 4 but it won't have a lot of relevance in the final output because of low number of values"
   ]
  },
  {
   "cell_type": "code",
   "execution_count": 31,
   "metadata": {
    "collapsed": false,
    "deletable": true,
    "editable": true
   },
   "outputs": [
    {
     "data": {
      "text/html": [
       "<div>\n",
       "<style>\n",
       "    .dataframe thead tr:only-child th {\n",
       "        text-align: right;\n",
       "    }\n",
       "\n",
       "    .dataframe thead th {\n",
       "        text-align: left;\n",
       "    }\n",
       "\n",
       "    .dataframe tbody tr th {\n",
       "        vertical-align: top;\n",
       "    }\n",
       "</style>\n",
       "<table border=\"1\" class=\"dataframe\">\n",
       "  <thead>\n",
       "    <tr style=\"text-align: right;\">\n",
       "      <th>default payment next month</th>\n",
       "      <th>0</th>\n",
       "      <th>1</th>\n",
       "      <th>perc</th>\n",
       "    </tr>\n",
       "    <tr>\n",
       "      <th>SEX</th>\n",
       "      <th></th>\n",
       "      <th></th>\n",
       "      <th></th>\n",
       "    </tr>\n",
       "  </thead>\n",
       "  <tbody>\n",
       "    <tr>\n",
       "      <th>1</th>\n",
       "      <td>9015</td>\n",
       "      <td>2873</td>\n",
       "      <td>0.241672</td>\n",
       "    </tr>\n",
       "    <tr>\n",
       "      <th>2</th>\n",
       "      <td>14349</td>\n",
       "      <td>3763</td>\n",
       "      <td>0.207763</td>\n",
       "    </tr>\n",
       "  </tbody>\n",
       "</table>\n",
       "</div>"
      ],
      "text/plain": [
       "default payment next month      0     1      perc\n",
       "SEX                                              \n",
       "1                            9015  2873  0.241672\n",
       "2                           14349  3763  0.207763"
      ]
     },
     "execution_count": 31,
     "metadata": {},
     "output_type": "execute_result"
    }
   ],
   "source": [
    "# Let us compare SEX and target variable:\n",
    "corr_2_vars('SEX', 'default payment next month')"
   ]
  },
  {
   "cell_type": "markdown",
   "metadata": {
    "deletable": true,
    "editable": true
   },
   "source": [
    " - We can see that about 22% of people will be defaulters in the next month with more men than women but the difference is not that much with respect to SEX"
   ]
  },
  {
   "cell_type": "code",
   "execution_count": 32,
   "metadata": {
    "collapsed": false,
    "deletable": true,
    "editable": true
   },
   "outputs": [
    {
     "data": {
      "text/html": [
       "<div>\n",
       "<style>\n",
       "    .dataframe thead tr:only-child th {\n",
       "        text-align: right;\n",
       "    }\n",
       "\n",
       "    .dataframe thead th {\n",
       "        text-align: left;\n",
       "    }\n",
       "\n",
       "    .dataframe tbody tr th {\n",
       "        vertical-align: top;\n",
       "    }\n",
       "</style>\n",
       "<table border=\"1\" class=\"dataframe\">\n",
       "  <thead>\n",
       "    <tr style=\"text-align: right;\">\n",
       "      <th>default payment next month</th>\n",
       "      <th>0</th>\n",
       "      <th>1</th>\n",
       "      <th>perc</th>\n",
       "    </tr>\n",
       "    <tr>\n",
       "      <th>MARRIAGE</th>\n",
       "      <th></th>\n",
       "      <th></th>\n",
       "      <th></th>\n",
       "    </tr>\n",
       "  </thead>\n",
       "  <tbody>\n",
       "    <tr>\n",
       "      <th>1</th>\n",
       "      <td>10453</td>\n",
       "      <td>3206</td>\n",
       "      <td>0.234717</td>\n",
       "    </tr>\n",
       "    <tr>\n",
       "      <th>2</th>\n",
       "      <td>12623</td>\n",
       "      <td>3341</td>\n",
       "      <td>0.209283</td>\n",
       "    </tr>\n",
       "    <tr>\n",
       "      <th>3</th>\n",
       "      <td>288</td>\n",
       "      <td>89</td>\n",
       "      <td>0.236074</td>\n",
       "    </tr>\n",
       "  </tbody>\n",
       "</table>\n",
       "</div>"
      ],
      "text/plain": [
       "default payment next month      0     1      perc\n",
       "MARRIAGE                                         \n",
       "1                           10453  3206  0.234717\n",
       "2                           12623  3341  0.209283\n",
       "3                             288    89  0.236074"
      ]
     },
     "execution_count": 32,
     "metadata": {},
     "output_type": "execute_result"
    }
   ],
   "source": [
    "# Let us compare MARRIAGE and target variable:\n",
    "corr_2_vars('MARRIAGE', 'default payment next month')"
   ]
  },
  {
   "cell_type": "markdown",
   "metadata": {
    "deletable": true,
    "editable": true
   },
   "source": [
    " - We can see that married are more prone to be defaulters probbaly becasue of them having more responsibility '(taking acre of children and marital related expenses). The other or categry 3 won't matter much becasue of it being less in number."
   ]
  },
  {
   "cell_type": "markdown",
   "metadata": {
    "deletable": true,
    "editable": true
   },
   "source": [
    "# Feature Engineering"
   ]
  },
  {
   "cell_type": "code",
   "execution_count": 33,
   "metadata": {
    "collapsed": false,
    "deletable": true,
    "editable": true
   },
   "outputs": [
    {
     "data": {
      "text/html": [
       "<div>\n",
       "<style>\n",
       "    .dataframe thead tr:only-child th {\n",
       "        text-align: right;\n",
       "    }\n",
       "\n",
       "    .dataframe thead th {\n",
       "        text-align: left;\n",
       "    }\n",
       "\n",
       "    .dataframe tbody tr th {\n",
       "        vertical-align: top;\n",
       "    }\n",
       "</style>\n",
       "<table border=\"1\" class=\"dataframe\">\n",
       "  <thead>\n",
       "    <tr style=\"text-align: right;\">\n",
       "      <th>default payment next month</th>\n",
       "      <th>0</th>\n",
       "      <th>1</th>\n",
       "      <th>perc</th>\n",
       "    </tr>\n",
       "    <tr>\n",
       "      <th>SE_MA_2</th>\n",
       "      <th></th>\n",
       "      <th></th>\n",
       "      <th></th>\n",
       "    </tr>\n",
       "  </thead>\n",
       "  <tbody>\n",
       "    <tr>\n",
       "      <th>1</th>\n",
       "      <td>3844</td>\n",
       "      <td>1346</td>\n",
       "      <td>0.259345</td>\n",
       "    </tr>\n",
       "    <tr>\n",
       "      <th>2</th>\n",
       "      <td>5068</td>\n",
       "      <td>1485</td>\n",
       "      <td>0.226614</td>\n",
       "    </tr>\n",
       "    <tr>\n",
       "      <th>3</th>\n",
       "      <td>103</td>\n",
       "      <td>42</td>\n",
       "      <td>0.289655</td>\n",
       "    </tr>\n",
       "    <tr>\n",
       "      <th>4</th>\n",
       "      <td>6609</td>\n",
       "      <td>1860</td>\n",
       "      <td>0.219625</td>\n",
       "    </tr>\n",
       "    <tr>\n",
       "      <th>5</th>\n",
       "      <td>7555</td>\n",
       "      <td>1856</td>\n",
       "      <td>0.197216</td>\n",
       "    </tr>\n",
       "    <tr>\n",
       "      <th>6</th>\n",
       "      <td>185</td>\n",
       "      <td>47</td>\n",
       "      <td>0.202586</td>\n",
       "    </tr>\n",
       "  </tbody>\n",
       "</table>\n",
       "</div>"
      ],
      "text/plain": [
       "default payment next month     0     1      perc\n",
       "SE_MA_2                                         \n",
       "1                           3844  1346  0.259345\n",
       "2                           5068  1485  0.226614\n",
       "3                            103    42  0.289655\n",
       "4                           6609  1860  0.219625\n",
       "5                           7555  1856  0.197216\n",
       "6                            185    47  0.202586"
      ]
     },
     "execution_count": 33,
     "metadata": {},
     "output_type": "execute_result"
    }
   ],
   "source": [
    "# We saw that men and married people are most likely to default. So let us try and combine these categories and see if we have a better feature:\n",
    "df['SE_MA_2'] = 0\n",
    "df.loc[((df.SEX == 1) & (df.MARRIAGE == 1)) , 'SE_MA_2'] = 1 #married man\n",
    "df.loc[((df.SEX == 1) & (df.MARRIAGE == 2)) , 'SE_MA_2'] = 2 #single man\n",
    "df.loc[((df.SEX == 1) & (df.MARRIAGE == 3)) , 'SE_MA_2'] = 3 #divorced man\n",
    "df.loc[((df.SEX == 2) & (df.MARRIAGE == 1)) , 'SE_MA_2'] = 4 #married woman\n",
    "df.loc[((df.SEX == 2) & (df.MARRIAGE == 2)) , 'SE_MA_2'] = 5 #single woman\n",
    "df.loc[((df.SEX == 2) & (df.MARRIAGE == 3)) , 'SE_MA_2'] = 6 #divorced woman\n",
    "corr_2_vars('SE_MA_2', 'default payment next month')"
   ]
  },
  {
   "cell_type": "markdown",
   "metadata": {
    "deletable": true,
    "editable": true
   },
   "source": [
    "We can see clearly that married men have a higher probability of defaulting, single men have nothing special with respect to the all population and single women have a lowe probability of defaulting. Among the divorced, men have more troubles (but these categories are not very much populated)."
   ]
  },
  {
   "cell_type": "code",
   "execution_count": 34,
   "metadata": {
    "collapsed": false,
    "deletable": true,
    "editable": true
   },
   "outputs": [
    {
     "data": {
      "text/plain": [
       "1    11013\n",
       "2    10713\n",
       "3     6005\n",
       "4     1930\n",
       "5      339\n",
       "Name: AgeBin, dtype: int64"
      ]
     },
     "execution_count": 34,
     "metadata": {},
     "output_type": "execute_result"
    }
   ],
   "source": [
    "# We can probbaly use age bins instead of age and see how it is related with target variable:\n",
    "df['AgeBin'] = pd.cut(df['AGE'], 6, labels = [1,2,3,4,5,6])\n",
    "#because 1 2 3 ecc are \"categories\" so far and we need numbers\n",
    "df['AgeBin'] = pd.to_numeric(df['AgeBin'])\n",
    "df.loc[(df['AgeBin'] == 6) , 'AgeBin'] = 5 #We merged 6th bin with 5th bin as there were very less categries in bin 6th\n",
    "df.AgeBin.value_counts() "
   ]
  },
  {
   "cell_type": "code",
   "execution_count": 35,
   "metadata": {
    "collapsed": false,
    "deletable": true,
    "editable": true
   },
   "outputs": [
    {
     "data": {
      "text/html": [
       "<div>\n",
       "<style>\n",
       "    .dataframe thead tr:only-child th {\n",
       "        text-align: right;\n",
       "    }\n",
       "\n",
       "    .dataframe thead th {\n",
       "        text-align: left;\n",
       "    }\n",
       "\n",
       "    .dataframe tbody tr th {\n",
       "        vertical-align: top;\n",
       "    }\n",
       "</style>\n",
       "<table border=\"1\" class=\"dataframe\">\n",
       "  <thead>\n",
       "    <tr style=\"text-align: right;\">\n",
       "      <th>default payment next month</th>\n",
       "      <th>0</th>\n",
       "      <th>1</th>\n",
       "      <th>perc</th>\n",
       "    </tr>\n",
       "    <tr>\n",
       "      <th>AgeBin</th>\n",
       "      <th></th>\n",
       "      <th></th>\n",
       "      <th></th>\n",
       "    </tr>\n",
       "  </thead>\n",
       "  <tbody>\n",
       "    <tr>\n",
       "      <th>1</th>\n",
       "      <td>8542</td>\n",
       "      <td>2471</td>\n",
       "      <td>0.224371</td>\n",
       "    </tr>\n",
       "    <tr>\n",
       "      <th>2</th>\n",
       "      <td>8524</td>\n",
       "      <td>2189</td>\n",
       "      <td>0.204331</td>\n",
       "    </tr>\n",
       "    <tr>\n",
       "      <th>3</th>\n",
       "      <td>4606</td>\n",
       "      <td>1399</td>\n",
       "      <td>0.232973</td>\n",
       "    </tr>\n",
       "    <tr>\n",
       "      <th>4</th>\n",
       "      <td>1449</td>\n",
       "      <td>481</td>\n",
       "      <td>0.249223</td>\n",
       "    </tr>\n",
       "    <tr>\n",
       "      <th>5</th>\n",
       "      <td>243</td>\n",
       "      <td>96</td>\n",
       "      <td>0.283186</td>\n",
       "    </tr>\n",
       "  </tbody>\n",
       "</table>\n",
       "</div>"
      ],
      "text/plain": [
       "default payment next month     0     1      perc\n",
       "AgeBin                                          \n",
       "1                           8542  2471  0.224371\n",
       "2                           8524  2189  0.204331\n",
       "3                           4606  1399  0.232973\n",
       "4                           1449   481  0.249223\n",
       "5                            243    96  0.283186"
      ]
     },
     "execution_count": 35,
     "metadata": {},
     "output_type": "execute_result"
    }
   ],
   "source": [
    "# Finding correlation between Agebins ccorr_2_cols('AgeBin', 'SEX')reated and target variable:\n",
    "corr_2_vars('AgeBin', 'default payment next month')"
   ]
  },
  {
   "cell_type": "code",
   "execution_count": 36,
   "metadata": {
    "collapsed": false,
    "deletable": true,
    "editable": true
   },
   "outputs": [
    {
     "data": {
      "text/html": [
       "<div>\n",
       "<style>\n",
       "    .dataframe thead tr:only-child th {\n",
       "        text-align: right;\n",
       "    }\n",
       "\n",
       "    .dataframe thead th {\n",
       "        text-align: left;\n",
       "    }\n",
       "\n",
       "    .dataframe tbody tr th {\n",
       "        vertical-align: top;\n",
       "    }\n",
       "</style>\n",
       "<table border=\"1\" class=\"dataframe\">\n",
       "  <thead>\n",
       "    <tr style=\"text-align: right;\">\n",
       "      <th>SEX</th>\n",
       "      <th>1</th>\n",
       "      <th>2</th>\n",
       "      <th>perc</th>\n",
       "    </tr>\n",
       "    <tr>\n",
       "      <th>AgeBin</th>\n",
       "      <th></th>\n",
       "      <th></th>\n",
       "      <th></th>\n",
       "    </tr>\n",
       "  </thead>\n",
       "  <tbody>\n",
       "    <tr>\n",
       "      <th>1</th>\n",
       "      <td>3842</td>\n",
       "      <td>7171</td>\n",
       "      <td>0.651140</td>\n",
       "    </tr>\n",
       "    <tr>\n",
       "      <th>2</th>\n",
       "      <td>4363</td>\n",
       "      <td>6350</td>\n",
       "      <td>0.592738</td>\n",
       "    </tr>\n",
       "    <tr>\n",
       "      <th>3</th>\n",
       "      <td>2587</td>\n",
       "      <td>3418</td>\n",
       "      <td>0.569192</td>\n",
       "    </tr>\n",
       "    <tr>\n",
       "      <th>4</th>\n",
       "      <td>917</td>\n",
       "      <td>1013</td>\n",
       "      <td>0.524870</td>\n",
       "    </tr>\n",
       "    <tr>\n",
       "      <th>5</th>\n",
       "      <td>179</td>\n",
       "      <td>160</td>\n",
       "      <td>0.471976</td>\n",
       "    </tr>\n",
       "  </tbody>\n",
       "</table>\n",
       "</div>"
      ],
      "text/plain": [
       "SEX        1     2      perc\n",
       "AgeBin                      \n",
       "1       3842  7171  0.651140\n",
       "2       4363  6350  0.592738\n",
       "3       2587  3418  0.569192\n",
       "4        917  1013  0.524870\n",
       "5        179   160  0.471976"
      ]
     },
     "execution_count": 36,
     "metadata": {},
     "output_type": "execute_result"
    }
   ],
   "source": [
    "corr_2_vars('AgeBin', 'SEX')"
   ]
  },
  {
   "cell_type": "markdown",
   "metadata": {
    "deletable": true,
    "editable": true
   },
   "source": [
    "We can see that default probability goes down in their 30's and then goes higher and higher. At the same time, the percentage of men is growing with the age category. Thus let us combine the two as before and create a combination of the two."
   ]
  },
  {
   "cell_type": "code",
   "execution_count": 37,
   "metadata": {
    "collapsed": false,
    "deletable": true,
    "editable": true
   },
   "outputs": [
    {
     "data": {
      "text/html": [
       "<div>\n",
       "<style>\n",
       "    .dataframe thead tr:only-child th {\n",
       "        text-align: right;\n",
       "    }\n",
       "\n",
       "    .dataframe thead th {\n",
       "        text-align: left;\n",
       "    }\n",
       "\n",
       "    .dataframe tbody tr th {\n",
       "        vertical-align: top;\n",
       "    }\n",
       "</style>\n",
       "<table border=\"1\" class=\"dataframe\">\n",
       "  <thead>\n",
       "    <tr style=\"text-align: right;\">\n",
       "      <th>default payment next month</th>\n",
       "      <th>0</th>\n",
       "      <th>1</th>\n",
       "      <th>perc</th>\n",
       "    </tr>\n",
       "    <tr>\n",
       "      <th>SE_AG</th>\n",
       "      <th></th>\n",
       "      <th></th>\n",
       "      <th></th>\n",
       "    </tr>\n",
       "  </thead>\n",
       "  <tbody>\n",
       "    <tr>\n",
       "      <th>1</th>\n",
       "      <td>2929</td>\n",
       "      <td>913</td>\n",
       "      <td>0.237637</td>\n",
       "    </tr>\n",
       "    <tr>\n",
       "      <th>2</th>\n",
       "      <td>3350</td>\n",
       "      <td>1013</td>\n",
       "      <td>0.232180</td>\n",
       "    </tr>\n",
       "    <tr>\n",
       "      <th>3</th>\n",
       "      <td>1939</td>\n",
       "      <td>648</td>\n",
       "      <td>0.250483</td>\n",
       "    </tr>\n",
       "    <tr>\n",
       "      <th>4</th>\n",
       "      <td>666</td>\n",
       "      <td>251</td>\n",
       "      <td>0.273719</td>\n",
       "    </tr>\n",
       "    <tr>\n",
       "      <th>5</th>\n",
       "      <td>131</td>\n",
       "      <td>48</td>\n",
       "      <td>0.268156</td>\n",
       "    </tr>\n",
       "    <tr>\n",
       "      <th>6</th>\n",
       "      <td>5613</td>\n",
       "      <td>1558</td>\n",
       "      <td>0.217264</td>\n",
       "    </tr>\n",
       "    <tr>\n",
       "      <th>7</th>\n",
       "      <td>5174</td>\n",
       "      <td>1176</td>\n",
       "      <td>0.185197</td>\n",
       "    </tr>\n",
       "    <tr>\n",
       "      <th>8</th>\n",
       "      <td>2667</td>\n",
       "      <td>751</td>\n",
       "      <td>0.219719</td>\n",
       "    </tr>\n",
       "    <tr>\n",
       "      <th>9</th>\n",
       "      <td>783</td>\n",
       "      <td>230</td>\n",
       "      <td>0.227048</td>\n",
       "    </tr>\n",
       "    <tr>\n",
       "      <th>10</th>\n",
       "      <td>112</td>\n",
       "      <td>48</td>\n",
       "      <td>0.300000</td>\n",
       "    </tr>\n",
       "  </tbody>\n",
       "</table>\n",
       "</div>"
      ],
      "text/plain": [
       "default payment next month     0     1      perc\n",
       "SE_AG                                           \n",
       "1                           2929   913  0.237637\n",
       "2                           3350  1013  0.232180\n",
       "3                           1939   648  0.250483\n",
       "4                            666   251  0.273719\n",
       "5                            131    48  0.268156\n",
       "6                           5613  1558  0.217264\n",
       "7                           5174  1176  0.185197\n",
       "8                           2667   751  0.219719\n",
       "9                            783   230  0.227048\n",
       "10                           112    48  0.300000"
      ]
     },
     "execution_count": 37,
     "metadata": {},
     "output_type": "execute_result"
    }
   ],
   "source": [
    "df['SE_AG'] = 0\n",
    "df.loc[((df.SEX == 1) & (df.AgeBin == 1)) , 'SE_AG'] = 1 #man in 20's\n",
    "df.loc[((df.SEX == 1) & (df.AgeBin == 2)) , 'SE_AG'] = 2 #man in 30's\n",
    "df.loc[((df.SEX == 1) & (df.AgeBin == 3)) , 'SE_AG'] = 3 #man in 40's\n",
    "df.loc[((df.SEX == 1) & (df.AgeBin == 4)) , 'SE_AG'] = 4 #man in 50's\n",
    "df.loc[((df.SEX == 1) & (df.AgeBin == 5)) , 'SE_AG'] = 5 #man in 60's and above\n",
    "df.loc[((df.SEX == 2) & (df.AgeBin == 1)) , 'SE_AG'] = 6 #woman in 20's\n",
    "df.loc[((df.SEX == 2) & (df.AgeBin == 2)) , 'SE_AG'] = 7 #woman in 30's\n",
    "df.loc[((df.SEX == 2) & (df.AgeBin == 3)) , 'SE_AG'] = 8 #woman in 40's\n",
    "df.loc[((df.SEX == 2) & (df.AgeBin == 4)) , 'SE_AG'] = 9 #woman in 50's\n",
    "df.loc[((df.SEX == 2) & (df.AgeBin == 5)) , 'SE_AG'] = 10 #woman in 60's and above\n",
    "corr_2_vars('SE_AG', 'default payment next month')"
   ]
  },
  {
   "cell_type": "code",
   "execution_count": 38,
   "metadata": {
    "collapsed": false,
    "deletable": true,
    "editable": true
   },
   "outputs": [
    {
     "data": {
      "text/html": [
       "<div>\n",
       "<style>\n",
       "    .dataframe thead tr:only-child th {\n",
       "        text-align: right;\n",
       "    }\n",
       "\n",
       "    .dataframe thead th {\n",
       "        text-align: left;\n",
       "    }\n",
       "\n",
       "    .dataframe tbody tr th {\n",
       "        vertical-align: top;\n",
       "    }\n",
       "</style>\n",
       "<table border=\"1\" class=\"dataframe\">\n",
       "  <thead>\n",
       "    <tr style=\"text-align: right;\">\n",
       "      <th></th>\n",
       "      <th>LIMIT_BAL</th>\n",
       "      <th>Avg_exp_5</th>\n",
       "      <th>BILL_AMT5</th>\n",
       "      <th>Avg_exp_4</th>\n",
       "      <th>BILL_AMT4</th>\n",
       "      <th>Avg_exp_3</th>\n",
       "      <th>BILL_AMT3</th>\n",
       "      <th>Avg_exp_2</th>\n",
       "      <th>BILL_AMT2</th>\n",
       "      <th>Avg_exp_1</th>\n",
       "      <th>BILL_AMT1</th>\n",
       "      <th>default payment next month</th>\n",
       "    </tr>\n",
       "  </thead>\n",
       "  <tbody>\n",
       "    <tr>\n",
       "      <th>21908</th>\n",
       "      <td>200000</td>\n",
       "      <td>0.002700</td>\n",
       "      <td>540</td>\n",
       "      <td>0.002325</td>\n",
       "      <td>390</td>\n",
       "      <td>0.002200</td>\n",
       "      <td>390</td>\n",
       "      <td>0.002138</td>\n",
       "      <td>390</td>\n",
       "      <td>0.002836</td>\n",
       "      <td>1126</td>\n",
       "      <td>0</td>\n",
       "    </tr>\n",
       "    <tr>\n",
       "      <th>15638</th>\n",
       "      <td>250000</td>\n",
       "      <td>0.048044</td>\n",
       "      <td>36022</td>\n",
       "      <td>0.027184</td>\n",
       "      <td>1581</td>\n",
       "      <td>0.027475</td>\n",
       "      <td>7014</td>\n",
       "      <td>0.021987</td>\n",
       "      <td>1381</td>\n",
       "      <td>0.018694</td>\n",
       "      <td>1381</td>\n",
       "      <td>1</td>\n",
       "    </tr>\n",
       "    <tr>\n",
       "      <th>13725</th>\n",
       "      <td>300000</td>\n",
       "      <td>0.015043</td>\n",
       "      <td>287816</td>\n",
       "      <td>0.023470</td>\n",
       "      <td>286885</td>\n",
       "      <td>0.035996</td>\n",
       "      <td>295173</td>\n",
       "      <td>0.039463</td>\n",
       "      <td>299066</td>\n",
       "      <td>0.036530</td>\n",
       "      <td>293498</td>\n",
       "      <td>0</td>\n",
       "    </tr>\n",
       "    <tr>\n",
       "      <th>16540</th>\n",
       "      <td>30000</td>\n",
       "      <td>0.018267</td>\n",
       "      <td>24309</td>\n",
       "      <td>0.020583</td>\n",
       "      <td>24996</td>\n",
       "      <td>0.021300</td>\n",
       "      <td>22981</td>\n",
       "      <td>0.018792</td>\n",
       "      <td>21637</td>\n",
       "      <td>0.019347</td>\n",
       "      <td>22284</td>\n",
       "      <td>0</td>\n",
       "    </tr>\n",
       "    <tr>\n",
       "      <th>29433</th>\n",
       "      <td>240000</td>\n",
       "      <td>0.016262</td>\n",
       "      <td>188520</td>\n",
       "      <td>0.017190</td>\n",
       "      <td>187756</td>\n",
       "      <td>0.019703</td>\n",
       "      <td>186885</td>\n",
       "      <td>0.019232</td>\n",
       "      <td>182916</td>\n",
       "      <td>0.019768</td>\n",
       "      <td>181569</td>\n",
       "      <td>0</td>\n",
       "    </tr>\n",
       "    <tr>\n",
       "      <th>10864</th>\n",
       "      <td>60000</td>\n",
       "      <td>0.018833</td>\n",
       "      <td>28600</td>\n",
       "      <td>0.032300</td>\n",
       "      <td>29846</td>\n",
       "      <td>0.176444</td>\n",
       "      <td>55730</td>\n",
       "      <td>0.167875</td>\n",
       "      <td>61260</td>\n",
       "      <td>0.143747</td>\n",
       "      <td>61094</td>\n",
       "      <td>0</td>\n",
       "    </tr>\n",
       "    <tr>\n",
       "      <th>24269</th>\n",
       "      <td>20000</td>\n",
       "      <td>0.000000</td>\n",
       "      <td>11198</td>\n",
       "      <td>0.000000</td>\n",
       "      <td>10474</td>\n",
       "      <td>0.076967</td>\n",
       "      <td>14092</td>\n",
       "      <td>0.060450</td>\n",
       "      <td>13056</td>\n",
       "      <td>0.132780</td>\n",
       "      <td>19498</td>\n",
       "      <td>1</td>\n",
       "    </tr>\n",
       "    <tr>\n",
       "      <th>3953</th>\n",
       "      <td>110000</td>\n",
       "      <td>0.015691</td>\n",
       "      <td>79727</td>\n",
       "      <td>0.024709</td>\n",
       "      <td>80437</td>\n",
       "      <td>0.128961</td>\n",
       "      <td>107558</td>\n",
       "      <td>0.112084</td>\n",
       "      <td>110818</td>\n",
       "      <td>0.123900</td>\n",
       "      <td>79646</td>\n",
       "      <td>0</td>\n",
       "    </tr>\n",
       "    <tr>\n",
       "      <th>27471</th>\n",
       "      <td>360000</td>\n",
       "      <td>0.026567</td>\n",
       "      <td>9564</td>\n",
       "      <td>0.021614</td>\n",
       "      <td>10527</td>\n",
       "      <td>0.014409</td>\n",
       "      <td>-229</td>\n",
       "      <td>0.188862</td>\n",
       "      <td>256171</td>\n",
       "      <td>0.157581</td>\n",
       "      <td>221855</td>\n",
       "      <td>0</td>\n",
       "    </tr>\n",
       "    <tr>\n",
       "      <th>9098</th>\n",
       "      <td>130000</td>\n",
       "      <td>0.006985</td>\n",
       "      <td>46093</td>\n",
       "      <td>0.006846</td>\n",
       "      <td>45365</td>\n",
       "      <td>0.007208</td>\n",
       "      <td>44396</td>\n",
       "      <td>0.007363</td>\n",
       "      <td>43914</td>\n",
       "      <td>0.007400</td>\n",
       "      <td>41795</td>\n",
       "      <td>1</td>\n",
       "    </tr>\n",
       "  </tbody>\n",
       "</table>\n",
       "</div>"
      ],
      "text/plain": [
       "       LIMIT_BAL  Avg_exp_5  BILL_AMT5  Avg_exp_4  BILL_AMT4  Avg_exp_3  \\\n",
       "21908     200000   0.002700        540   0.002325        390   0.002200   \n",
       "15638     250000   0.048044      36022   0.027184       1581   0.027475   \n",
       "13725     300000   0.015043     287816   0.023470     286885   0.035996   \n",
       "16540      30000   0.018267      24309   0.020583      24996   0.021300   \n",
       "29433     240000   0.016262     188520   0.017190     187756   0.019703   \n",
       "10864      60000   0.018833      28600   0.032300      29846   0.176444   \n",
       "24269      20000   0.000000      11198   0.000000      10474   0.076967   \n",
       "3953      110000   0.015691      79727   0.024709      80437   0.128961   \n",
       "27471     360000   0.026567       9564   0.021614      10527   0.014409   \n",
       "9098      130000   0.006985      46093   0.006846      45365   0.007208   \n",
       "\n",
       "       BILL_AMT3  Avg_exp_2  BILL_AMT2  Avg_exp_1  BILL_AMT1  \\\n",
       "21908        390   0.002138        390   0.002836       1126   \n",
       "15638       7014   0.021987       1381   0.018694       1381   \n",
       "13725     295173   0.039463     299066   0.036530     293498   \n",
       "16540      22981   0.018792      21637   0.019347      22284   \n",
       "29433     186885   0.019232     182916   0.019768     181569   \n",
       "10864      55730   0.167875      61260   0.143747      61094   \n",
       "24269      14092   0.060450      13056   0.132780      19498   \n",
       "3953      107558   0.112084     110818   0.123900      79646   \n",
       "27471       -229   0.188862     256171   0.157581     221855   \n",
       "9098       44396   0.007363      43914   0.007400      41795   \n",
       "\n",
       "       default payment next month  \n",
       "21908                           0  \n",
       "15638                           1  \n",
       "13725                           0  \n",
       "16540                           0  \n",
       "29433                           0  \n",
       "10864                           0  \n",
       "24269                           1  \n",
       "3953                            0  \n",
       "27471                           0  \n",
       "9098                            1  "
      ]
     },
     "execution_count": 38,
     "metadata": {},
     "output_type": "execute_result"
    }
   ],
   "source": [
    "#Let us examine how careless our client is by analyzing the expenses of a client:\n",
    "df['Avg_exp_5'] = ((df['BILL_AMT5'] - (df['BILL_AMT6'] - df['PAY_AMT5']))) / df['LIMIT_BAL']\n",
    "df['Avg_exp_4'] = (((df['BILL_AMT5'] - (df['BILL_AMT6'] - df['PAY_AMT5'])) +\n",
    "                 (df['BILL_AMT4'] - (df['BILL_AMT5'] - df['PAY_AMT4']))) / 2) / df['LIMIT_BAL']\n",
    "df['Avg_exp_3'] = (((df['BILL_AMT5'] - (df['BILL_AMT6'] - df['PAY_AMT5'])) +\n",
    "                 (df['BILL_AMT4'] - (df['BILL_AMT5'] - df['PAY_AMT4'])) +\n",
    "                 (df['BILL_AMT3'] - (df['BILL_AMT4'] - df['PAY_AMT3']))) / 3) / df['LIMIT_BAL']\n",
    "df['Avg_exp_2'] = (((df['BILL_AMT5'] - (df['BILL_AMT6'] - df['PAY_AMT5'])) +\n",
    "                 (df['BILL_AMT4'] - (df['BILL_AMT5'] - df['PAY_AMT4'])) +\n",
    "                 (df['BILL_AMT3'] - (df['BILL_AMT4'] - df['PAY_AMT3'])) +\n",
    "                 (df['BILL_AMT2'] - (df['BILL_AMT3'] - df['PAY_AMT2']))) / 4) / df['LIMIT_BAL']\n",
    "df['Avg_exp_1'] = (((df['BILL_AMT5'] - (df['BILL_AMT6'] - df['PAY_AMT5'])) +\n",
    "                 (df['BILL_AMT4'] - (df['BILL_AMT5'] - df['PAY_AMT4'])) +\n",
    "                 (df['BILL_AMT3'] - (df['BILL_AMT4'] - df['PAY_AMT3'])) +\n",
    "                 (df['BILL_AMT2'] - (df['BILL_AMT3'] - df['PAY_AMT2'])) +\n",
    "                 (df['BILL_AMT1'] - (df['BILL_AMT2'] - df['PAY_AMT1']))) / 5) / df['LIMIT_BAL']\n",
    "df[['LIMIT_BAL', 'Avg_exp_5', 'BILL_AMT5', 'Avg_exp_4', 'BILL_AMT4','Avg_exp_3', 'BILL_AMT3',\n",
    "    'Avg_exp_2', 'BILL_AMT2', 'Avg_exp_1', 'BILL_AMT1', 'default payment next month']].sample(10)"
   ]
  },
  {
   "cell_type": "code",
   "execution_count": 39,
   "metadata": {
    "collapsed": false,
    "deletable": true,
    "editable": true
   },
   "outputs": [
    {
     "data": {
      "text/html": [
       "<div>\n",
       "<style>\n",
       "    .dataframe thead tr:only-child th {\n",
       "        text-align: right;\n",
       "    }\n",
       "\n",
       "    .dataframe thead th {\n",
       "        text-align: left;\n",
       "    }\n",
       "\n",
       "    .dataframe tbody tr th {\n",
       "        vertical-align: top;\n",
       "    }\n",
       "</style>\n",
       "<table border=\"1\" class=\"dataframe\">\n",
       "  <thead>\n",
       "    <tr style=\"text-align: right;\">\n",
       "      <th></th>\n",
       "      <th>Closeness_6</th>\n",
       "      <th>Closeness_5</th>\n",
       "      <th>Closeness_4</th>\n",
       "      <th>Closeness_3</th>\n",
       "      <th>Closeness_2</th>\n",
       "      <th>Closeness_1</th>\n",
       "      <th>default payment next month</th>\n",
       "    </tr>\n",
       "  </thead>\n",
       "  <tbody>\n",
       "    <tr>\n",
       "      <th>11751</th>\n",
       "      <td>1.000000</td>\n",
       "      <td>1.000000</td>\n",
       "      <td>1.000000</td>\n",
       "      <td>1.000000</td>\n",
       "      <td>0.995008</td>\n",
       "      <td>0.960077</td>\n",
       "      <td>1</td>\n",
       "    </tr>\n",
       "    <tr>\n",
       "      <th>4254</th>\n",
       "      <td>0.491500</td>\n",
       "      <td>0.492250</td>\n",
       "      <td>0.498167</td>\n",
       "      <td>0.462683</td>\n",
       "      <td>0.447550</td>\n",
       "      <td>0.336150</td>\n",
       "      <td>0</td>\n",
       "    </tr>\n",
       "    <tr>\n",
       "      <th>20452</th>\n",
       "      <td>0.565200</td>\n",
       "      <td>0.431035</td>\n",
       "      <td>0.089976</td>\n",
       "      <td>0.103359</td>\n",
       "      <td>0.098100</td>\n",
       "      <td>0.032894</td>\n",
       "      <td>1</td>\n",
       "    </tr>\n",
       "    <tr>\n",
       "      <th>2012</th>\n",
       "      <td>-0.061800</td>\n",
       "      <td>-0.093550</td>\n",
       "      <td>0.045850</td>\n",
       "      <td>0.049600</td>\n",
       "      <td>0.115200</td>\n",
       "      <td>0.086100</td>\n",
       "      <td>1</td>\n",
       "    </tr>\n",
       "    <tr>\n",
       "      <th>7356</th>\n",
       "      <td>0.244694</td>\n",
       "      <td>0.259613</td>\n",
       "      <td>0.274835</td>\n",
       "      <td>0.288965</td>\n",
       "      <td>0.236574</td>\n",
       "      <td>0.161697</td>\n",
       "      <td>1</td>\n",
       "    </tr>\n",
       "  </tbody>\n",
       "</table>\n",
       "</div>"
      ],
      "text/plain": [
       "       Closeness_6  Closeness_5  Closeness_4  Closeness_3  Closeness_2  \\\n",
       "11751     1.000000     1.000000     1.000000     1.000000     0.995008   \n",
       "4254      0.491500     0.492250     0.498167     0.462683     0.447550   \n",
       "20452     0.565200     0.431035     0.089976     0.103359     0.098100   \n",
       "2012     -0.061800    -0.093550     0.045850     0.049600     0.115200   \n",
       "7356      0.244694     0.259613     0.274835     0.288965     0.236574   \n",
       "\n",
       "       Closeness_1  default payment next month  \n",
       "11751     0.960077                           1  \n",
       "4254      0.336150                           0  \n",
       "20452     0.032894                           1  \n",
       "2012      0.086100                           1  \n",
       "7356      0.161697                           1  "
      ]
     },
     "execution_count": 39,
     "metadata": {},
     "output_type": "execute_result"
    }
   ],
   "source": [
    "#Let us create a closeness variable to see by weighing the difference between Limit balance and Bill amt:\n",
    "df['Closeness_6'] = (df.LIMIT_BAL - df.BILL_AMT6) / df.LIMIT_BAL\n",
    "df['Closeness_5'] = (df.LIMIT_BAL - df.BILL_AMT5) / df.LIMIT_BAL\n",
    "df['Closeness_4'] = (df.LIMIT_BAL - df.BILL_AMT4) / df.LIMIT_BAL\n",
    "df['Closeness_3'] = (df.LIMIT_BAL - df.BILL_AMT3) / df.LIMIT_BAL\n",
    "df['Closeness_2'] = (df.LIMIT_BAL - df.BILL_AMT2) / df.LIMIT_BAL\n",
    "df['Closeness_1'] = (df.LIMIT_BAL - df.BILL_AMT1) / df.LIMIT_BAL\n",
    "df[['Closeness_6', 'Closeness_5', 'Closeness_4', 'Closeness_3', 'Closeness_2',\n",
    "   'Closeness_1', 'default payment next month']].sample(5)"
   ]
  },
  {
   "cell_type": "code",
   "execution_count": 40,
   "metadata": {
    "collapsed": false,
    "deletable": true,
    "editable": true
   },
   "outputs": [
    {
     "data": {
      "text/html": [
       "<div>\n",
       "<style>\n",
       "    .dataframe thead tr:only-child th {\n",
       "        text-align: right;\n",
       "    }\n",
       "\n",
       "    .dataframe thead th {\n",
       "        text-align: left;\n",
       "    }\n",
       "\n",
       "    .dataframe tbody tr th {\n",
       "        vertical-align: top;\n",
       "    }\n",
       "</style>\n",
       "<table border=\"1\" class=\"dataframe\">\n",
       "  <thead>\n",
       "    <tr style=\"text-align: right;\">\n",
       "      <th></th>\n",
       "      <th>util_6</th>\n",
       "      <th>util_5</th>\n",
       "      <th>util_4</th>\n",
       "      <th>util_3</th>\n",
       "      <th>util_2</th>\n",
       "      <th>util_1</th>\n",
       "      <th>default payment next month</th>\n",
       "    </tr>\n",
       "  </thead>\n",
       "  <tbody>\n",
       "    <tr>\n",
       "      <th>24726</th>\n",
       "      <td>0.000000</td>\n",
       "      <td>0.000000</td>\n",
       "      <td>0.000000</td>\n",
       "      <td>0.000000</td>\n",
       "      <td>0.000000</td>\n",
       "      <td>0.000000</td>\n",
       "      <td>1</td>\n",
       "    </tr>\n",
       "    <tr>\n",
       "      <th>13392</th>\n",
       "      <td>0.194000</td>\n",
       "      <td>0.197360</td>\n",
       "      <td>0.204060</td>\n",
       "      <td>0.407520</td>\n",
       "      <td>0.451760</td>\n",
       "      <td>0.475880</td>\n",
       "      <td>0</td>\n",
       "    </tr>\n",
       "    <tr>\n",
       "      <th>11125</th>\n",
       "      <td>0.287732</td>\n",
       "      <td>0.296688</td>\n",
       "      <td>0.301256</td>\n",
       "      <td>0.294044</td>\n",
       "      <td>0.288248</td>\n",
       "      <td>0.282088</td>\n",
       "      <td>0</td>\n",
       "    </tr>\n",
       "    <tr>\n",
       "      <th>28661</th>\n",
       "      <td>0.199300</td>\n",
       "      <td>0.202940</td>\n",
       "      <td>0.990540</td>\n",
       "      <td>1.002020</td>\n",
       "      <td>1.023880</td>\n",
       "      <td>1.046160</td>\n",
       "      <td>0</td>\n",
       "    </tr>\n",
       "    <tr>\n",
       "      <th>26949</th>\n",
       "      <td>0.570547</td>\n",
       "      <td>0.564035</td>\n",
       "      <td>0.647250</td>\n",
       "      <td>0.619460</td>\n",
       "      <td>-0.021192</td>\n",
       "      <td>0.009798</td>\n",
       "      <td>0</td>\n",
       "    </tr>\n",
       "  </tbody>\n",
       "</table>\n",
       "</div>"
      ],
      "text/plain": [
       "         util_6    util_5    util_4    util_3    util_2    util_1  \\\n",
       "24726  0.000000  0.000000  0.000000  0.000000  0.000000  0.000000   \n",
       "13392  0.194000  0.197360  0.204060  0.407520  0.451760  0.475880   \n",
       "11125  0.287732  0.296688  0.301256  0.294044  0.288248  0.282088   \n",
       "28661  0.199300  0.202940  0.990540  1.002020  1.023880  1.046160   \n",
       "26949  0.570547  0.564035  0.647250  0.619460 -0.021192  0.009798   \n",
       "\n",
       "       default payment next month  \n",
       "24726                           1  \n",
       "13392                           0  \n",
       "11125                           0  \n",
       "28661                           0  \n",
       "26949                           0  "
      ]
     },
     "execution_count": 40,
     "metadata": {},
     "output_type": "execute_result"
    }
   ],
   "source": [
    "# We can also create a utilization variable by dividing bill amount by credit limit:\n",
    "#Let us examine how careless our client is by analyzing the expenses of a client:\n",
    "df['util_6'] = (df.BILL_AMT6) / df.LIMIT_BAL\n",
    "df['util_5'] = (df.BILL_AMT5) / df.LIMIT_BAL\n",
    "df['util_4'] = (df.BILL_AMT4) / df.LIMIT_BAL\n",
    "df['util_3'] = (df.BILL_AMT3) / df.LIMIT_BAL\n",
    "df['util_2'] = (df.BILL_AMT2) / df.LIMIT_BAL\n",
    "df['util_1'] = (df.BILL_AMT1) / df.LIMIT_BAL\n",
    "df[['util_6', 'util_5', 'util_4', 'util_3', 'util_2',\n",
    "   'util_1', 'default payment next month']].sample(5)"
   ]
  },
  {
   "cell_type": "markdown",
   "metadata": {
    "deletable": true,
    "editable": true
   },
   "source": [
    "Predictive Models:"
   ]
  },
  {
   "cell_type": "code",
   "execution_count": 41,
   "metadata": {
    "collapsed": true,
    "deletable": true,
    "editable": true
   },
   "outputs": [],
   "source": [
    "#Let us define predictor features and target features:\n",
    "target = 'default payment next month'\n",
    "predictors = ['LIMIT_BAL', 'EDUCATION', 'MARRIAGE', 'PAY_0','PAY_2', 'PAY_3', \n",
    "            'PAY_4', 'PAY_5', 'PAY_6','BILL_AMT1', 'BILL_AMT2',\n",
    "            'BILL_AMT3', 'BILL_AMT4', 'BILL_AMT5', 'BILL_AMT6', 'PAY_AMT1',\n",
    "            'PAY_AMT2', 'PAY_AMT3', 'PAY_AMT4', 'PAY_AMT5', 'PAY_AMT6', \n",
    "            'SE_MA_2', 'AgeBin', 'SE_AG', 'Avg_exp_5', 'Avg_exp_4',\n",
    "            'Avg_exp_3', 'Avg_exp_2', 'Avg_exp_1', 'Closeness_5',\n",
    "            'Closeness_4', 'Closeness_3', 'Closeness_2','Closeness_1', \n",
    "              'util_6', 'util_5', 'util_4', 'util_3', 'util_2','util_1']"
   ]
  },
  {
   "cell_type": "code",
   "execution_count": 46,
   "metadata": {
    "collapsed": false
   },
   "outputs": [],
   "source": [
    "train_df, test_df = train_test_split(df, test_size= 0.20, random_state= 42, shuffle=True )"
   ]
  },
  {
   "cell_type": "code",
   "execution_count": 47,
   "metadata": {
    "collapsed": false,
    "deletable": true,
    "editable": true
   },
   "outputs": [],
   "source": [
    "#We should also keep a copy of traiing set and test set:\n",
    "train_df_bkp = train_df.copy()\n",
    "test_df_bkp = test_df.copy()"
   ]
  },
  {
   "cell_type": "code",
   "execution_count": 48,
   "metadata": {
    "collapsed": false,
    "deletable": true,
    "editable": true
   },
   "outputs": [],
   "source": [
    "#Building a Random Forest Classifier:\n",
    "clf = RandomForestClassifier(bootstrap=True, class_weight=None, criterion='gini',\n",
    "            max_depth=None, max_features='auto', max_leaf_nodes=None,\n",
    "            min_impurity_decrease=0.0, min_impurity_split=None,\n",
    "            min_samples_leaf=1, min_samples_split=2,\n",
    "            min_weight_fraction_leaf=0.0, n_estimators=100, n_jobs=4,\n",
    "            oob_score=False, random_state=2018, verbose=False,\n",
    "            warm_start=False)"
   ]
  },
  {
   "cell_type": "code",
   "execution_count": 49,
   "metadata": {
    "collapsed": false,
    "deletable": true,
    "editable": true
   },
   "outputs": [],
   "source": [
    "# Let us now predict the target values:\n",
    "clf.fit(train_df[predictors], train_df[target].values)\n",
    "preds = clf.predict(test_df[predictors])"
   ]
  },
  {
   "cell_type": "code",
   "execution_count": 50,
   "metadata": {
    "collapsed": false,
    "deletable": true,
    "editable": true
   },
   "outputs": [
    {
     "data": {
      "image/png": "[encoded data removed]",
      "text/plain": [
       "<matplotlib.figure.Figure at 0x21056017a20>"
      ]
     },
     "metadata": {},
     "output_type": "display_data"
    }
   ],
   "source": [
    "tmp = pd.DataFrame({'Feature': predictors, 'Feature importance': clf.feature_importances_})\n",
    "tmp = tmp.sort_values(by='Feature importance',ascending=False)\n",
    "plt.figure(figsize = (7,4))\n",
    "plt.title('Features importance',fontsize=14)\n",
    "s = sns.barplot(x='Feature',y='Feature importance',data=tmp)\n",
    "s.set_xticklabels(s.get_xticklabels(),rotation=90)\n",
    "plt.show()"
   ]
  },
  {
   "cell_type": "code",
   "execution_count": 56,
   "metadata": {
    "collapsed": false,
    "deletable": true,
    "editable": true
   },
   "outputs": [
    {
     "data": {
      "image/png": "[encoded data removed]",
      "text/plain": [
       "<matplotlib.figure.Figure at 0x21056a0bf28>"
      ]
     },
     "metadata": {},
     "output_type": "display_data"
    }
   ],
   "source": [
    "cm = pd.crosstab(test_df[target].values, preds, rownames=['Actual'], colnames=['Predicted'])\n",
    "fig, (ax1) = plt.subplots(ncols=1, figsize=(5,5))\n",
    "sns.heatmap(cm, \n",
    "            xticklabels=['Not Default', 'Default'],\n",
    "            yticklabels=['Not Default', 'Default'],\n",
    "            annot=True,ax=ax1,\n",
    "            linewidths=.2,linecolor=\"Darkblue\", cmap=\"Blues\")\n",
    "plt.title('Confusion Matrix')\n",
    "plt.show()"
   ]
  },
  {
   "cell_type": "code",
   "execution_count": 52,
   "metadata": {
    "collapsed": false,
    "deletable": true,
    "editable": true
   },
   "outputs": [
    {
     "data": {
      "text/plain": [
       "0.64892726409730461"
      ]
     },
     "execution_count": 52,
     "metadata": {},
     "output_type": "execute_result"
    }
   ],
   "source": [
    "from sklearn.metrics import roc_auc_score\n",
    "roc_auc_score(test_df[target].values, preds)"
   ]
  },
  {
   "cell_type": "markdown",
   "metadata": {
    "deletable": true,
    "editable": true
   },
   "source": [
    "- The AUC score for Rnadom Forest came out to be ~ 67%"
   ]
  },
  {
   "cell_type": "code",
   "execution_count": 57,
   "metadata": {
    "collapsed": false,
    "deletable": true,
    "editable": true
   },
   "outputs": [],
   "source": [
    "#Building a XG-Boost Classifier:\n",
    "\n",
    "# Prepare the train and valid datasets\n",
    "\n",
    "dtrain = xgb.DMatrix(train_df[predictors], train_df[target].values)\n",
    "dvalid = xgb.DMatrix(test_df[predictors], test_df[target].values)\n",
    "\n",
    "#What to monitor (in this case, **train** and **test**)\n",
    "watchlist = [(dtrain, 'train_df'), (dvalid, 'test_df')]\n",
    "\n",
    "# Set xgboost parameters\n",
    "params = {}\n",
    "params['objective'] = 'binary:logistic'\n",
    "params['eta'] = 0.039\n",
    "params['silent'] = True\n",
    "params['max_depth'] = 2\n",
    "params['subsample'] = 0.8\n",
    "params['colsample_bytree'] = 0.9\n",
    "params['eval_metric'] = 'auc'\n",
    "params['random_state'] = 42"
   ]
  },
  {
   "cell_type": "code",
   "execution_count": 61,
   "metadata": {
    "collapsed": false,
    "deletable": true,
    "editable": true
   },
   "outputs": [
    {
     "name": "stdout",
     "output_type": "stream",
     "text": [
      "[0]\ttrain_df-auc:0.694746\ttest_df-auc:0.68705\n",
      "[1]\ttrain_df-auc:0.694767\ttest_df-auc:0.687112\n",
      "[2]\ttrain_df-auc:0.694767\ttest_df-auc:0.687112\n",
      "[3]\ttrain_df-auc:0.694834\ttest_df-auc:0.68733\n",
      "[4]\ttrain_df-auc:0.695516\ttest_df-auc:0.687979\n",
      "[5]\ttrain_df-auc:0.695516\ttest_df-auc:0.687979\n",
      "[6]\ttrain_df-auc:0.709543\ttest_df-auc:0.70588\n",
      "[7]\ttrain_df-auc:0.709543\ttest_df-auc:0.70588\n",
      "[8]\ttrain_df-auc:0.709543\ttest_df-auc:0.70588\n",
      "[9]\ttrain_df-auc:0.709536\ttest_df-auc:0.705899\n",
      "[10]\ttrain_df-auc:0.732256\ttest_df-auc:0.729088\n",
      "[11]\ttrain_df-auc:0.750983\ttest_df-auc:0.743885\n",
      "[12]\ttrain_df-auc:0.756923\ttest_df-auc:0.752964\n",
      "[13]\ttrain_df-auc:0.760774\ttest_df-auc:0.754816\n",
      "[14]\ttrain_df-auc:0.76083\ttest_df-auc:0.75476\n",
      "[15]\ttrain_df-auc:0.761441\ttest_df-auc:0.755798\n",
      "[16]\ttrain_df-auc:0.761503\ttest_df-auc:0.755834\n",
      "[17]\ttrain_df-auc:0.760898\ttest_df-auc:0.755069\n",
      "[18]\ttrain_df-auc:0.761012\ttest_df-auc:0.755457\n",
      "[19]\ttrain_df-auc:0.761176\ttest_df-auc:0.75576\n",
      "[20]\ttrain_df-auc:0.761008\ttest_df-auc:0.755391\n",
      "[21]\ttrain_df-auc:0.761019\ttest_df-auc:0.75537\n",
      "[22]\ttrain_df-auc:0.761061\ttest_df-auc:0.755319\n",
      "[23]\ttrain_df-auc:0.761096\ttest_df-auc:0.75518\n",
      "[24]\ttrain_df-auc:0.761315\ttest_df-auc:0.755394\n",
      "[25]\ttrain_df-auc:0.761597\ttest_df-auc:0.755619\n",
      "[26]\ttrain_df-auc:0.761663\ttest_df-auc:0.755895\n",
      "[27]\ttrain_df-auc:0.761448\ttest_df-auc:0.755639\n",
      "[28]\ttrain_df-auc:0.761547\ttest_df-auc:0.756131\n",
      "[29]\ttrain_df-auc:0.761889\ttest_df-auc:0.756433\n",
      "[30]\ttrain_df-auc:0.76167\ttest_df-auc:0.756479\n",
      "[31]\ttrain_df-auc:0.762126\ttest_df-auc:0.756934\n",
      "[32]\ttrain_df-auc:0.763689\ttest_df-auc:0.758926\n",
      "[33]\ttrain_df-auc:0.76348\ttest_df-auc:0.758609\n",
      "[34]\ttrain_df-auc:0.764045\ttest_df-auc:0.759836\n",
      "[35]\ttrain_df-auc:0.764401\ttest_df-auc:0.759794\n",
      "[36]\ttrain_df-auc:0.764272\ttest_df-auc:0.759455\n",
      "[37]\ttrain_df-auc:0.765833\ttest_df-auc:0.76177\n",
      "[38]\ttrain_df-auc:0.765699\ttest_df-auc:0.761589\n",
      "[39]\ttrain_df-auc:0.765975\ttest_df-auc:0.76213\n",
      "[40]\ttrain_df-auc:0.766141\ttest_df-auc:0.76225\n",
      "[41]\ttrain_df-auc:0.766456\ttest_df-auc:0.761687\n",
      "[42]\ttrain_df-auc:0.766708\ttest_df-auc:0.761951\n",
      "[43]\ttrain_df-auc:0.767567\ttest_df-auc:0.763677\n",
      "[44]\ttrain_df-auc:0.767515\ttest_df-auc:0.763547\n",
      "[45]\ttrain_df-auc:0.76771\ttest_df-auc:0.763411\n",
      "[46]\ttrain_df-auc:0.768183\ttest_df-auc:0.763949\n",
      "[47]\ttrain_df-auc:0.768993\ttest_df-auc:0.76443\n",
      "[48]\ttrain_df-auc:0.769321\ttest_df-auc:0.764477\n",
      "[49]\ttrain_df-auc:0.769253\ttest_df-auc:0.76458\n",
      "[50]\ttrain_df-auc:0.76922\ttest_df-auc:0.764399\n",
      "[51]\ttrain_df-auc:0.769609\ttest_df-auc:0.764557\n",
      "[52]\ttrain_df-auc:0.769912\ttest_df-auc:0.765007\n",
      "[53]\ttrain_df-auc:0.770262\ttest_df-auc:0.765342\n",
      "[54]\ttrain_df-auc:0.770468\ttest_df-auc:0.765428\n",
      "[55]\ttrain_df-auc:0.770947\ttest_df-auc:0.765539\n",
      "[56]\ttrain_df-auc:0.771266\ttest_df-auc:0.766043\n",
      "[57]\ttrain_df-auc:0.77138\ttest_df-auc:0.765869\n",
      "[58]\ttrain_df-auc:0.771867\ttest_df-auc:0.7663\n",
      "[59]\ttrain_df-auc:0.772016\ttest_df-auc:0.766397\n",
      "[60]\ttrain_df-auc:0.772166\ttest_df-auc:0.766453\n",
      "[61]\ttrain_df-auc:0.772797\ttest_df-auc:0.766815\n",
      "[62]\ttrain_df-auc:0.772862\ttest_df-auc:0.766703\n",
      "[63]\ttrain_df-auc:0.772999\ttest_df-auc:0.767028\n",
      "[64]\ttrain_df-auc:0.773168\ttest_df-auc:0.766886\n",
      "[65]\ttrain_df-auc:0.773356\ttest_df-auc:0.766953\n",
      "[66]\ttrain_df-auc:0.773672\ttest_df-auc:0.767235\n",
      "[67]\ttrain_df-auc:0.773613\ttest_df-auc:0.767482\n",
      "[68]\ttrain_df-auc:0.773817\ttest_df-auc:0.767687\n",
      "[69]\ttrain_df-auc:0.775207\ttest_df-auc:0.768288\n",
      "[70]\ttrain_df-auc:0.775897\ttest_df-auc:0.769172\n",
      "[71]\ttrain_df-auc:0.775932\ttest_df-auc:0.769176\n",
      "[72]\ttrain_df-auc:0.776279\ttest_df-auc:0.769583\n",
      "[73]\ttrain_df-auc:0.777014\ttest_df-auc:0.770181\n",
      "[74]\ttrain_df-auc:0.776975\ttest_df-auc:0.770051\n",
      "[75]\ttrain_df-auc:0.77711\ttest_df-auc:0.770231\n",
      "[76]\ttrain_df-auc:0.777117\ttest_df-auc:0.770393\n",
      "[77]\ttrain_df-auc:0.777049\ttest_df-auc:0.770437\n",
      "[78]\ttrain_df-auc:0.777225\ttest_df-auc:0.770551\n",
      "[79]\ttrain_df-auc:0.777717\ttest_df-auc:0.771029\n",
      "[80]\ttrain_df-auc:0.778256\ttest_df-auc:0.771492\n",
      "[81]\ttrain_df-auc:0.778922\ttest_df-auc:0.77206\n",
      "[82]\ttrain_df-auc:0.779396\ttest_df-auc:0.772409\n",
      "[83]\ttrain_df-auc:0.779376\ttest_df-auc:0.772377\n",
      "[84]\ttrain_df-auc:0.779739\ttest_df-auc:0.773008\n",
      "[85]\ttrain_df-auc:0.779778\ttest_df-auc:0.772844\n",
      "[86]\ttrain_df-auc:0.779882\ttest_df-auc:0.772853\n",
      "[87]\ttrain_df-auc:0.779796\ttest_df-auc:0.772872\n",
      "[88]\ttrain_df-auc:0.780233\ttest_df-auc:0.773103\n",
      "[89]\ttrain_df-auc:0.780441\ttest_df-auc:0.773255\n",
      "[90]\ttrain_df-auc:0.780695\ttest_df-auc:0.773545\n",
      "[91]\ttrain_df-auc:0.781013\ttest_df-auc:0.77356\n",
      "[92]\ttrain_df-auc:0.78138\ttest_df-auc:0.77373\n",
      "[93]\ttrain_df-auc:0.781669\ttest_df-auc:0.773798\n",
      "[94]\ttrain_df-auc:0.781823\ttest_df-auc:0.773828\n",
      "[95]\ttrain_df-auc:0.781953\ttest_df-auc:0.773818\n",
      "[96]\ttrain_df-auc:0.781875\ttest_df-auc:0.773837\n",
      "[97]\ttrain_df-auc:0.78207\ttest_df-auc:0.773864\n",
      "[98]\ttrain_df-auc:0.782375\ttest_df-auc:0.77374\n",
      "[99]\ttrain_df-auc:0.782603\ttest_df-auc:0.773847\n"
     ]
    }
   ],
   "source": [
    "#Train the model:\n",
    "\n",
    "model = xgb.train(params, \n",
    "                dtrain, \n",
    "                100, \n",
    "                watchlist, \n",
    "                maximize=True)"
   ]
  },
  {
   "cell_type": "code",
   "execution_count": null,
   "metadata": {
    "collapsed": true
   },
   "outputs": [],
   "source": [
    ". The best train AUC was found out to be ~ 77%"
   ]
  },
  {
   "cell_type": "code",
   "execution_count": 55,
   "metadata": {
    "collapsed": false,
    "deletable": true,
    "editable": true
   },
   "outputs": [
    {
     "data": {
      "image/png": "[encoded data removed]",
      "text/plain": [
       "<matplotlib.figure.Figure at 0x21055db0a90>"
      ]
     },
     "metadata": {},
     "output_type": "display_data"
    }
   ],
   "source": [
    "#Plotting variable importance:\n",
    "fig, (ax) = plt.subplots(ncols=1)\n",
    "xgb.plot_importance(model, height=0.8, title=\"Features importance (XGBoost)\", ax=ax, color=\"red\") \n",
    "plt.show()"
   ]
  },
  {
   "cell_type": "markdown",
   "metadata": {
    "collapsed": true,
    "deletable": true,
    "editable": true
   },
   "source": [
    "\n",
    " - Out of the 2 models that we used to predict credit card fault XG - Boost predicted the defaulters with more accuracy\n",
    " - We tried figuring out more important parameters with the help of these models and Pay, Closeness & Avg Exp came out to be the most prominent fratures\n",
    " - For better predictions we could have done hyperparameter tuning in a better way. Ex: altering the dept of tree in Random Forest\n",
    " - We could have used techniques like PCA & LDA initially to figure out more important features\n",
    " - We could have used better estimators for judging our model like F1 score\n",
    " - We could have scaled our parameters and see if the model returned better results\n",
    " - We could have used k-fold cross validation which could have helped fetching better results"
   ]
  }
 ],
 "metadata": {
  "kernelspec": {
   "display_name": "Python 3",
   "language": "python",
   "name": "python3"
  },
  "language_info": {
   "codemirror_mode": {
    "name": "ipython",
    "version": 3
   },
   "file_extension": ".py",
   "mimetype": "text/x-python",
   "name": "python",
   "nbconvert_exporter": "python",
   "pygments_lexer": "ipython3",
   "version": "3.5.2"
  }
 },
 "nbformat": 4,
 "nbformat_minor": 2
}
